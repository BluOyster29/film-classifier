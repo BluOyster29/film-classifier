{
 "cells": [
  {
   "cell_type": "code",
   "execution_count": 155,
   "id": "disturbed-activity",
   "metadata": {},
   "outputs": [],
   "source": [
    "import pandas as pd \n",
    "import matplotlib.pyplot as plt \n",
    "import torch\n",
    "import torch.nn.functional as F\n",
    "import torchvision\n",
    "import torchvision.transforms as transforms\n",
    "import os\n",
    "from torch.utils.data import Dataset, DataLoader\n",
    "from sklearn.model_selection import train_test_split\n",
    "import numpy as np"
   ]
  },
  {
   "cell_type": "code",
   "execution_count": 156,
   "id": "purple-right",
   "metadata": {},
   "outputs": [],
   "source": [
    "train_df, test_df = train_test_split(pd.read_csv('data/movie_db.csv'))"
   ]
  },
  {
   "cell_type": "code",
   "execution_count": 182,
   "id": "complicated-motion",
   "metadata": {
    "code_folding": [
     0
    ]
   },
   "outputs": [],
   "source": [
    "def count_genre(genre, genre2idx):\n",
    "    \n",
    "    genre_counts = {genre : 0 for genre in genre2idx.keys()}\n",
    "    \n",
    "    for i in genre:\n",
    "        try:\n",
    "            genres = i.split(',')\n",
    "\n",
    "            for g in genres:\n",
    "\n",
    "                g = g.strip()\n",
    "\n",
    "                genre_counts[g] += 1\n",
    "                \n",
    "        except:\n",
    "            None\n",
    "            \n",
    "    return genre_counts\n",
    "\n",
    "def get_genres(genre):\n",
    "    genre_set = []\n",
    "    num=0\n",
    "    failed=[]\n",
    "    for i in genre:\n",
    "        try:\n",
    "            genres = i.split(',')\n",
    "\n",
    "            for g in genres:\n",
    "\n",
    "                g = g.strip()\n",
    "\n",
    "                if g not in genre_set:\n",
    "                    genre_set.append(g)\n",
    "        except:\n",
    "            failed.append(num)\n",
    "        num+=1\n",
    "        \n",
    "    idx2genre = dict(enumerate(genre_set))\n",
    "    genre2idx = {g : idx for idx, g in idx2genre.items()}\n",
    "    \n",
    "    return idx2genre, genre2idx, failed\n",
    "\n",
    "def encode_genres(genres, genre2idx):\n",
    "    \n",
    "    encoded_genres = []\n",
    "    failed=[]\n",
    "    vector_size = len(genre2idx)\n",
    "    num = 0\n",
    "    for i in genres:\n",
    "        try:\n",
    "            empty_vec = np.zeros(vector_size)    \n",
    "            encoded = [genre2idx[x.strip()] for x in i.split(',')]\n",
    "\n",
    "            for i in encoded:\n",
    "                empty_vec[i] = 1\n",
    "        except:\n",
    "            failed.append(num)\n",
    "            continue\n",
    "        num+=1\n",
    "        encoded_genres.append(empty_vec)\n",
    "        \n",
    "    return torch.Tensor(encoded_genres), failed\n",
    "\n",
    "def encode_genre(genre, genre2idx):\n",
    "    \n",
    "    encoded_genre = torch.LongTensor([genre2idx[g.strip()] for g in genre])\n",
    "        \n",
    "    return torch.encoded_genre"
   ]
  },
  {
   "cell_type": "code",
   "execution_count": 183,
   "id": "laden-nomination",
   "metadata": {},
   "outputs": [],
   "source": [
    "genre = train_df['genre'].tolist()\n",
    "test_genre = test_df['genre'].tolist()\n",
    "idx2genre, genre2idx, failed = get_genres(genre)\n",
    "genre_counts = count_genre(genre, genre2idx)\n",
    "encoded_genres,failed = encode_genres(genre, genre2idx)\n",
    "test_encoded_genres, test_failed = encode_genres(test_genre, genre2idx)"
   ]
  },
  {
   "cell_type": "code",
   "execution_count": 184,
   "id": "collaborative-arbor",
   "metadata": {},
   "outputs": [
    {
     "data": {
      "text/plain": [
       "id                                                             1\n",
       "title                                                  Toy Story\n",
       "genre              Animation, Adventure, Comedy, Family, Fantasy\n",
       "imdb_link                                              tt0114709\n",
       "plot           A little boy named Andy loves to be in his roo...\n",
       "poster_path                        data/posters/1-toy-story.jpeg\n",
       "Name: 0, dtype: object"
      ]
     },
     "execution_count": 184,
     "metadata": {},
     "output_type": "execute_result"
    }
   ],
   "source": [
    "train_df.loc[0]"
   ]
  },
  {
   "cell_type": "code",
   "execution_count": null,
   "id": "dress-landscape",
   "metadata": {},
   "outputs": [],
   "source": []
  },
  {
   "cell_type": "code",
   "execution_count": 185,
   "id": "configured-complexity",
   "metadata": {},
   "outputs": [],
   "source": [
    "DATASET_PATH = 'data/posters/'\n",
    "train_posters = train_df['poster_path'].tolist()"
   ]
  },
  {
   "cell_type": "code",
   "execution_count": 186,
   "id": "artistic-religious",
   "metadata": {},
   "outputs": [],
   "source": [
    "process =  transforms.Compose([transforms.Resize(255), \n",
    "                                       transforms.CenterCrop(224),  \n",
    "                                       transforms.RandomHorizontalFlip(),\n",
    "                                       transforms.ToTensor(), \n",
    "                                       #transforms.Normalize([0.485, 0.456, 0.406], [0.229, 0.224, 0.225])\n",
    "                              ])\n"
   ]
  },
  {
   "cell_type": "code",
   "execution_count": 187,
   "id": "special-friday",
   "metadata": {},
   "outputs": [],
   "source": [
    "from PIL import Image"
   ]
  },
  {
   "cell_type": "code",
   "execution_count": 188,
   "id": "romance-pipeline",
   "metadata": {},
   "outputs": [],
   "source": [
    "a = Image.open(train_posters[0])"
   ]
  },
  {
   "cell_type": "code",
   "execution_count": 198,
   "id": "settled-executive",
   "metadata": {},
   "outputs": [],
   "source": [
    "class PosterDataset(Dataset):\n",
    "    \n",
    "    def __init__(self, df, encoded_genres, transform):\n",
    "        \n",
    "        self.df = df\n",
    "        self.genre2idx = encoded_genres\n",
    "        self.transform = transform\n",
    "    \n",
    "    def __len__(self):\n",
    "        return len(self.df)\n",
    "    \n",
    "    def __getitem__(self, idx):\n",
    "        \n",
    "        x = self.transform(Image.open(self.df.iloc[idx]['poster_path']))\n",
    "        y = encoded_genres[idx]\n",
    "        \n",
    "        return {\n",
    "            'image' : x,\n",
    "            'genre' : y\n",
    "        }"
   ]
  },
  {
   "cell_type": "code",
   "execution_count": 203,
   "id": "black-disposal",
   "metadata": {},
   "outputs": [],
   "source": [
    "train_dataset = PosterDataset(train_df, genre2idx, process)\n",
    "test_dataset = PosterDataset(test_df, genre2idx, process)"
   ]
  },
  {
   "cell_type": "code",
   "execution_count": 338,
   "id": "brief-evidence",
   "metadata": {},
   "outputs": [],
   "source": [
    "train_dataloader = DataLoader(train_dataset, shuffle=True)\n",
    "test_dataloader =DataLoader(test_dataset)"
   ]
  },
  {
   "cell_type": "markdown",
   "id": "future-teach",
   "metadata": {},
   "source": [
    "## CNN Model\n"
   ]
  },
  {
   "cell_type": "code",
   "execution_count": 339,
   "id": "synthetic-portable",
   "metadata": {},
   "outputs": [],
   "source": [
    "import torch.nn as nn\n",
    "import torch.functional as F"
   ]
  },
  {
   "cell_type": "code",
   "execution_count": 428,
   "id": "correct-expert",
   "metadata": {},
   "outputs": [],
   "source": [
    "class CNN(nn.Module):\n",
    "    \n",
    "    def __init__(self, out_features):\n",
    "        super(CNN,self).__init__()\n",
    "        \n",
    "        self.out_features = out_features\n",
    "        \n",
    "        self.layer1 = nn.Conv2d(in_channels=3, out_channels=12, kernel_size=3)\n",
    "        self.layer2 = nn.Conv2d(in_channels=12, out_channels=24, kernel_size=3)\n",
    "        \n",
    "        self.max_pool = nn.MaxPool2d(kernel_size=3, stride=3)\n",
    "        self.activation = nn.ReLU()\n",
    "        \n",
    "        self.linlayer1 = nn.Linear(13824, 300)\n",
    "        self.linlayer2 = nn.Linear(300, 60)\n",
    "        self.outputlayer = nn.Linear(60, self.out_features)\n",
    "        \n",
    "        self.softmax = nn.Sigmoid()\n",
    "        \n",
    "    def forward(self, input):\n",
    "        \n",
    "        out = self.layer1(input)\n",
    "        out = self.activation(out)\n",
    "        out = self.max_pool(out)\n",
    "        \n",
    "        #print(out.shape)\n",
    "        \n",
    "        out = self.layer2(out)\n",
    "        out = self.activation(out)\n",
    "        out = self.max_pool(out)\n",
    "        \n",
    "        #print(out.shape)\n",
    "        \n",
    "        #out = out.reshape(-1, 24 *4 *4)\n",
    "        out = out.view(out.size(0),-1)\n",
    "        \n",
    "        #print(out.shape)\n",
    "        \n",
    "        out = self.linlayer1(out)\n",
    "        out = self.activation(out)\n",
    "        \n",
    "        #print(out.shape)\n",
    "        \n",
    "        out = self.linlayer2(out)\n",
    "        out = self.activation(out)\n",
    "        \n",
    "        out = self.outputlayer(out)\n",
    "        \n",
    "        return out"
   ]
  },
  {
   "cell_type": "code",
   "execution_count": 429,
   "id": "helpful-scale",
   "metadata": {},
   "outputs": [],
   "source": [
    "model = CNN(len(genre2idx\n",
    "               ))"
   ]
  },
  {
   "cell_type": "code",
   "execution_count": 430,
   "id": "engaged-stuart",
   "metadata": {},
   "outputs": [],
   "source": [
    "output_size = len(genre2idx)\n",
    "n_layers = 1\n",
    "lr = 0.001\n",
    "device = 'cpu'"
   ]
  },
  {
   "cell_type": "code",
   "execution_count": 431,
   "id": "collective-spanking",
   "metadata": {},
   "outputs": [],
   "source": [
    "param_lrs = [{'params': param, 'lr': lr} for param in model.parameters()]\n",
    "optimizer = torch.optim.Adam(param_lrs, lr=lr)\n",
    "criterion = nn.BCEWithLogitsLoss().to(device)\n",
    "NUM_EPOCHS=10"
   ]
  },
  {
   "cell_type": "code",
   "execution_count": 435,
   "id": "welcome-jonathan",
   "metadata": {},
   "outputs": [],
   "source": [
    "from tqdm.notebook import tqdm"
   ]
  },
  {
   "cell_type": "code",
   "execution_count": 438,
   "id": "front-divide",
   "metadata": {},
   "outputs": [
    {
     "data": {
      "application/vnd.jupyter.widget-view+json": {
       "model_id": "40e6609c34e24fb5aecec0b4f07ed1a8",
       "version_major": 2,
       "version_minor": 0
      },
      "text/plain": [
       "  0%|          | 0/10 [00:00<?, ?it/s]"
      ]
     },
     "metadata": {},
     "output_type": "display_data"
    },
    {
     "data": {
      "application/vnd.jupyter.widget-view+json": {
       "model_id": "737c7f480d60433e8dcc543fa103ed14",
       "version_major": 2,
       "version_minor": 0
      },
      "text/plain": [
       "  0%|          | 0/374 [00:00<?, ?it/s]"
      ]
     },
     "metadata": {},
     "output_type": "display_data"
    },
    {
     "name": "stdout",
     "output_type": "stream",
     "text": [
      "0.33019700068681623\n"
     ]
    },
    {
     "data": {
      "application/vnd.jupyter.widget-view+json": {
       "model_id": "431c793695674989a1fe8b08863d1e71",
       "version_major": 2,
       "version_minor": 0
      },
      "text/plain": [
       "  0%|          | 0/374 [00:00<?, ?it/s]"
      ]
     },
     "metadata": {},
     "output_type": "display_data"
    },
    {
     "name": "stdout",
     "output_type": "stream",
     "text": [
      "0.32481925783150994\n"
     ]
    },
    {
     "data": {
      "application/vnd.jupyter.widget-view+json": {
       "model_id": "4cf6a908d2bc4dd4b674fc87f71d1d1a",
       "version_major": 2,
       "version_minor": 0
      },
      "text/plain": [
       "  0%|          | 0/374 [00:00<?, ?it/s]"
      ]
     },
     "metadata": {},
     "output_type": "display_data"
    },
    {
     "name": "stdout",
     "output_type": "stream",
     "text": [
      "0.3184125429806225\n"
     ]
    },
    {
     "data": {
      "application/vnd.jupyter.widget-view+json": {
       "model_id": "18e27deb29624cb9ad13d418c5a32411",
       "version_major": 2,
       "version_minor": 0
      },
      "text/plain": [
       "  0%|          | 0/374 [00:00<?, ?it/s]"
      ]
     },
     "metadata": {},
     "output_type": "display_data"
    },
    {
     "name": "stdout",
     "output_type": "stream",
     "text": [
      "0.3241720151773751\n"
     ]
    },
    {
     "data": {
      "application/vnd.jupyter.widget-view+json": {
       "model_id": "2b49a3ed8a1e460491964c90917d7308",
       "version_major": 2,
       "version_minor": 0
      },
      "text/plain": [
       "  0%|          | 0/374 [00:00<?, ?it/s]"
      ]
     },
     "metadata": {},
     "output_type": "display_data"
    },
    {
     "name": "stdout",
     "output_type": "stream",
     "text": [
      "0.31908791894740596\n"
     ]
    },
    {
     "data": {
      "application/vnd.jupyter.widget-view+json": {
       "model_id": "a22110a52acc423889fce636e4b41511",
       "version_major": 2,
       "version_minor": 0
      },
      "text/plain": [
       "  0%|          | 0/374 [00:00<?, ?it/s]"
      ]
     },
     "metadata": {},
     "output_type": "display_data"
    },
    {
     "name": "stdout",
     "output_type": "stream",
     "text": [
      "0.3284996981847095\n"
     ]
    },
    {
     "data": {
      "application/vnd.jupyter.widget-view+json": {
       "model_id": "cd4a15a845484fc9b5e8f4d57986bcbc",
       "version_major": 2,
       "version_minor": 0
      },
      "text/plain": [
       "  0%|          | 0/374 [00:00<?, ?it/s]"
      ]
     },
     "metadata": {},
     "output_type": "display_data"
    },
    {
     "name": "stdout",
     "output_type": "stream",
     "text": [
      "0.32153909266951247\n"
     ]
    },
    {
     "data": {
      "application/vnd.jupyter.widget-view+json": {
       "model_id": "47690b1ff5d647cb92efda22d0afa957",
       "version_major": 2,
       "version_minor": 0
      },
      "text/plain": [
       "  0%|          | 0/374 [00:00<?, ?it/s]"
      ]
     },
     "metadata": {},
     "output_type": "display_data"
    },
    {
     "name": "stdout",
     "output_type": "stream",
     "text": [
      "0.31688270100297816\n"
     ]
    },
    {
     "data": {
      "application/vnd.jupyter.widget-view+json": {
       "model_id": "12ba24943f184023b46846957779cea3",
       "version_major": 2,
       "version_minor": 0
      },
      "text/plain": [
       "  0%|          | 0/374 [00:00<?, ?it/s]"
      ]
     },
     "metadata": {},
     "output_type": "display_data"
    },
    {
     "name": "stdout",
     "output_type": "stream",
     "text": [
      "0.3165243206655273\n"
     ]
    },
    {
     "data": {
      "application/vnd.jupyter.widget-view+json": {
       "model_id": "fd4e8736e7694f48844df05b816977b0",
       "version_major": 2,
       "version_minor": 0
      },
      "text/plain": [
       "  0%|          | 0/374 [00:00<?, ?it/s]"
      ]
     },
     "metadata": {},
     "output_type": "display_data"
    },
    {
     "name": "stdout",
     "output_type": "stream",
     "text": [
      "0.3183284872834059\n"
     ]
    }
   ],
   "source": [
    " \n",
    "for epoch in tqdm(range(0, NUM_EPOCHS), total=NUM_EPOCHS):\n",
    "\n",
    "    model.train()\n",
    "    avg_loss = 0\n",
    "    failed = []\n",
    "    \n",
    "    for i in tqdm(train_dataloader):\n",
    "\n",
    "        image = i['image']\n",
    "        out = model(image)\n",
    "\n",
    "        loss= criterion(out, i['genre'])\n",
    "\n",
    "        loss.backward()\n",
    "        optimizer.step()\n",
    "        avg_loss += loss.item() / len(train_dataloader)\n",
    "\n",
    "    print(avg_loss)\n",
    "    "
   ]
  },
  {
   "cell_type": "code",
   "execution_count": 420,
   "id": "dependent-shadow",
   "metadata": {},
   "outputs": [],
   "source": [
    "def sigmoid(x):\n",
    "    return 1 / (1 + np.exp(-x))\n",
    "\n",
    "def get_index(preds):\n",
    "    empty = []\n",
    "    \n",
    "    for i in preds:\n",
    "        if i > 0.5:\n",
    "            empty.append(1)\n",
    "            \n",
    "        else:\n",
    "            empty.append(0)\n",
    "            \n",
    "    return empty\n",
    "            "
   ]
  },
  {
   "cell_type": "code",
   "execution_count": 422,
   "id": "bound-percentage",
   "metadata": {},
   "outputs": [
    {
     "data": {
      "text/plain": [
       "array([[0.52721506, 0.50683796, 0.49765334, 0.5051012 , 0.47298482,\n",
       "        0.5161388 , 0.5269805 , 0.515773  , 0.49353278, 0.50992537,\n",
       "        0.52013505, 0.47583356, 0.4751174 , 0.47212914, 0.4819235 ,\n",
       "        0.4986639 , 0.48364657, 0.48591143, 0.5316629 , 0.48052526,\n",
       "        0.520928  ]], dtype=float32)"
      ]
     },
     "execution_count": 422,
     "metadata": {},
     "output_type": "execute_result"
    }
   ],
   "source": [
    "sigmoid(out.detach().numpy())"
   ]
  },
  {
   "cell_type": "code",
   "execution_count": 433,
   "id": "regulation-coaching",
   "metadata": {},
   "outputs": [
    {
     "data": {
      "text/plain": [
       "tensor(0.7017, grad_fn=<BinaryCrossEntropyWithLogitsBackward>)"
      ]
     },
     "execution_count": 433,
     "metadata": {},
     "output_type": "execute_result"
    }
   ],
   "source": [
    "preds = []\n",
    "set_true = []\n",
    "true=[]\n",
    "model.eval()\n",
    "\n",
    "num = 0\n",
    "for i in tqdm(test_dataloader):\n",
    "\n",
    "    x = i['image']\n",
    "    y = i['genre']\n",
    "    out = model(x)\n",
    "    pred = sigmoid(out.detach().numpy())\n",
    "    preds.append(get_index(pred[0]))\n",
    "    set_true.append((i['genre'],i['title']))\n",
    "    num += 1\n",
    "    true.append(y.squeeze(0).cpu().numpy())"
   ]
  },
  {
   "cell_type": "code",
   "execution_count": null,
   "id": "democratic-consensus",
   "metadata": {},
   "outputs": [],
   "source": []
  }
 ],
 "metadata": {
  "kernelspec": {
   "display_name": "Python 3",
   "language": "python",
   "name": "python3"
  },
  "language_info": {
   "codemirror_mode": {
    "name": "ipython",
    "version": 3
   },
   "file_extension": ".py",
   "mimetype": "text/x-python",
   "name": "python",
   "nbconvert_exporter": "python",
   "pygments_lexer": "ipython3",
   "version": "3.7.3"
  },
  "toc": {
   "base_numbering": 1,
   "nav_menu": {},
   "number_sections": true,
   "sideBar": true,
   "skip_h1_title": false,
   "title_cell": "Table of Contents",
   "title_sidebar": "Contents",
   "toc_cell": false,
   "toc_position": {},
   "toc_section_display": true,
   "toc_window_display": false
  }
 },
 "nbformat": 4,
 "nbformat_minor": 5
}
