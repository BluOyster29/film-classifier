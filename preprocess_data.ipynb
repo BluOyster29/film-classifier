{
 "cells": [
  {
   "cell_type": "code",
   "execution_count": 1,
   "metadata": {},
   "outputs": [],
   "source": [
    "import pandas as pd, torch\n",
    "from PIL import Image\n",
    "import numpy as np\n",
    "from torchvision import transforms"
   ]
  },
  {
   "cell_type": "code",
   "execution_count": 2,
   "metadata": {},
   "outputs": [],
   "source": [
    "transform = transforms.Compose([\n",
    "    transforms.Resize(512),\n",
    "    transforms.CenterCrop(448),\n",
    "    transforms.ToTensor(),\n",
    "    transforms.Normalize(mean=[0.485, 0.456, 0.406], std=[0.229, 0.224, 0.225]),\n",
    "])\n",
    "\n",
    "invTrans = transforms.Compose([\n",
    "                                transforms.Normalize(mean=[-0.485/0.229, -0.456/0.224, -0.406/0.225], \n",
    "                                                     std=[1/0.229, 1/0.224, 1/0.225]),\n",
    "                               ])"
   ]
  },
  {
   "cell_type": "code",
   "execution_count": 3,
   "metadata": {},
   "outputs": [],
   "source": [
    "train_upto = 50\n",
    "test_upto = 25"
   ]
  },
  {
   "cell_type": "code",
   "execution_count": 6,
   "metadata": {},
   "outputs": [],
   "source": [
    "train_csv = pd.read_csv('data/movie_db.csv')[:train_upto]\n",
    "test_csv = pd.read_csv('data/movie_db.csv')[train_upto:]"
   ]
  },
  {
   "cell_type": "code",
   "execution_count": 9,
   "metadata": {},
   "outputs": [
    {
     "data": {
      "text/html": [
       "<div>\n",
       "<style scoped>\n",
       "    .dataframe tbody tr th:only-of-type {\n",
       "        vertical-align: middle;\n",
       "    }\n",
       "\n",
       "    .dataframe tbody tr th {\n",
       "        vertical-align: top;\n",
       "    }\n",
       "\n",
       "    .dataframe thead th {\n",
       "        text-align: right;\n",
       "    }\n",
       "</style>\n",
       "<table border=\"1\" class=\"dataframe\">\n",
       "  <thead>\n",
       "    <tr style=\"text-align: right;\">\n",
       "      <th></th>\n",
       "      <th>id</th>\n",
       "      <th>title</th>\n",
       "      <th>genre</th>\n",
       "      <th>imdb_link</th>\n",
       "      <th>plot</th>\n",
       "      <th>poster_path</th>\n",
       "    </tr>\n",
       "  </thead>\n",
       "  <tbody>\n",
       "    <tr>\n",
       "      <th>0</th>\n",
       "      <td>1</td>\n",
       "      <td>Toy Story</td>\n",
       "      <td>Animation, Adventure, Comedy, Family, Fantasy</td>\n",
       "      <td>tt0114709</td>\n",
       "      <td>A little boy named Andy loves to be in his roo...</td>\n",
       "      <td>data/posters/1-toy-story.jpeg</td>\n",
       "    </tr>\n",
       "    <tr>\n",
       "      <th>1</th>\n",
       "      <td>2</td>\n",
       "      <td>Jumanji</td>\n",
       "      <td>Adventure, Comedy, Family, Fantasy</td>\n",
       "      <td>tt0113497</td>\n",
       "      <td>After being trapped in a jungle board game for...</td>\n",
       "      <td>data/posters/2-jumanji.jpeg</td>\n",
       "    </tr>\n",
       "    <tr>\n",
       "      <th>2</th>\n",
       "      <td>3</td>\n",
       "      <td>Grumpier Old Men</td>\n",
       "      <td>Comedy, Romance</td>\n",
       "      <td>tt0113228</td>\n",
       "      <td>Things don't seem to change much in Wabasha Co...</td>\n",
       "      <td>data/posters/3-grumpier-old-men.jpeg</td>\n",
       "    </tr>\n",
       "    <tr>\n",
       "      <th>3</th>\n",
       "      <td>4</td>\n",
       "      <td>Waiting to Exhale</td>\n",
       "      <td>Comedy, Drama, Romance</td>\n",
       "      <td>tt0114885</td>\n",
       "      <td>This story based on the best selling novel by ...</td>\n",
       "      <td>data/posters/4-waiting-to-exhale.jpeg</td>\n",
       "    </tr>\n",
       "    <tr>\n",
       "      <th>4</th>\n",
       "      <td>5</td>\n",
       "      <td>Father of the Bride Part II</td>\n",
       "      <td>Comedy, Family, Romance</td>\n",
       "      <td>tt0113041</td>\n",
       "      <td>In this sequel to \"Father of the Bride\", Georg...</td>\n",
       "      <td>data/posters/5-father-of-the-bride-part-ii.jpeg</td>\n",
       "    </tr>\n",
       "    <tr>\n",
       "      <th>5</th>\n",
       "      <td>6</td>\n",
       "      <td>Heat</td>\n",
       "      <td>Crime, Drama, Thriller</td>\n",
       "      <td>tt0113277</td>\n",
       "      <td>Hunters and their prey--Neil and his professio...</td>\n",
       "      <td>data/posters/6-heat.jpeg</td>\n",
       "    </tr>\n",
       "    <tr>\n",
       "      <th>6</th>\n",
       "      <td>7</td>\n",
       "      <td>Sabrina</td>\n",
       "      <td>Comedy, Drama, Romance</td>\n",
       "      <td>tt0114319</td>\n",
       "      <td>While she was growing up, Sabrina Fairchild sp...</td>\n",
       "      <td>data/posters/7-sabrina.jpeg</td>\n",
       "    </tr>\n",
       "    <tr>\n",
       "      <th>7</th>\n",
       "      <td>8</td>\n",
       "      <td>Tom and Huck</td>\n",
       "      <td>Adventure, Comedy, Drama, Family, Romance, Wes...</td>\n",
       "      <td>tt0112302</td>\n",
       "      <td>A mischievous young boy, Tom Sawyer (Jonathan ...</td>\n",
       "      <td>data/posters/8-tom-and-huck.jpeg</td>\n",
       "    </tr>\n",
       "    <tr>\n",
       "      <th>8</th>\n",
       "      <td>9</td>\n",
       "      <td>Sudden Death</td>\n",
       "      <td>Action, Crime, Thriller</td>\n",
       "      <td>tt0114576</td>\n",
       "      <td>Some terrorists kidnap the Vice President of t...</td>\n",
       "      <td>data/posters/9-sudden-death.jpeg</td>\n",
       "    </tr>\n",
       "    <tr>\n",
       "      <th>9</th>\n",
       "      <td>10</td>\n",
       "      <td>GoldenEye</td>\n",
       "      <td>Action, Adventure, Thriller</td>\n",
       "      <td>tt0113189</td>\n",
       "      <td>When a deadly satellite weapon system falls in...</td>\n",
       "      <td>data/posters/10-goldeneye.jpeg</td>\n",
       "    </tr>\n",
       "    <tr>\n",
       "      <th>10</th>\n",
       "      <td>11</td>\n",
       "      <td>The American President</td>\n",
       "      <td>Comedy, Drama, Romance</td>\n",
       "      <td>tt0112346</td>\n",
       "      <td>Andrew Shepherd is approaching the end of his ...</td>\n",
       "      <td>data/posters/11-the-american-president.jpeg</td>\n",
       "    </tr>\n",
       "    <tr>\n",
       "      <th>11</th>\n",
       "      <td>12</td>\n",
       "      <td>Dracula: Dead and Loving It</td>\n",
       "      <td>Comedy, Fantasy, Horror</td>\n",
       "      <td>tt0112896</td>\n",
       "      <td>Another spoof from the mind of Mel Brooks. Thi...</td>\n",
       "      <td>data/posters/12-dracula-dead-and-loving-it.jpeg</td>\n",
       "    </tr>\n",
       "    <tr>\n",
       "      <th>12</th>\n",
       "      <td>13</td>\n",
       "      <td>Balto</td>\n",
       "      <td>Animation, Adventure, Drama, Family, History</td>\n",
       "      <td>tt0112453</td>\n",
       "      <td>A half-wolf, half-husky named Balto gets a cha...</td>\n",
       "      <td>data/posters/13-balto.jpeg</td>\n",
       "    </tr>\n",
       "    <tr>\n",
       "      <th>13</th>\n",
       "      <td>14</td>\n",
       "      <td>Nixon</td>\n",
       "      <td>Biography, Drama, History</td>\n",
       "      <td>tt0113987</td>\n",
       "      <td>Director Oliver Stone's exploration of former ...</td>\n",
       "      <td>data/posters/14-nixon.jpeg</td>\n",
       "    </tr>\n",
       "    <tr>\n",
       "      <th>14</th>\n",
       "      <td>15</td>\n",
       "      <td>Cutthroat Island</td>\n",
       "      <td>Action, Adventure, Comedy</td>\n",
       "      <td>tt0112760</td>\n",
       "      <td>Morgan Adams and her slave, William Shaw, are ...</td>\n",
       "      <td>data/posters/15-cutthroat-island.jpeg</td>\n",
       "    </tr>\n",
       "    <tr>\n",
       "      <th>15</th>\n",
       "      <td>16</td>\n",
       "      <td>Casino</td>\n",
       "      <td>Crime, Drama</td>\n",
       "      <td>tt0112641</td>\n",
       "      <td>This Martin Scorsese film depicts the Janus-li...</td>\n",
       "      <td>data/posters/16-casino.jpeg</td>\n",
       "    </tr>\n",
       "    <tr>\n",
       "      <th>16</th>\n",
       "      <td>17</td>\n",
       "      <td>Sense and Sensibility</td>\n",
       "      <td>Drama, Romance</td>\n",
       "      <td>tt0114388</td>\n",
       "      <td>When Mr. Dashwood dies, he must leave the bulk...</td>\n",
       "      <td>data/posters/17-sense-and-sensibility.jpeg</td>\n",
       "    </tr>\n",
       "    <tr>\n",
       "      <th>17</th>\n",
       "      <td>18</td>\n",
       "      <td>Four Rooms</td>\n",
       "      <td>Comedy</td>\n",
       "      <td>tt0113101</td>\n",
       "      <td>This movie features the collaborative director...</td>\n",
       "      <td>data/posters/18-four-rooms.jpeg</td>\n",
       "    </tr>\n",
       "    <tr>\n",
       "      <th>18</th>\n",
       "      <td>19</td>\n",
       "      <td>Ace Ventura: When Nature Calls</td>\n",
       "      <td>Adventure, Comedy, Crime</td>\n",
       "      <td>tt0112281</td>\n",
       "      <td>Ace Ventura, emerging from self-imposed exile ...</td>\n",
       "      <td>data/posters/19-ace-ventura-when-nature-calls....</td>\n",
       "    </tr>\n",
       "    <tr>\n",
       "      <th>19</th>\n",
       "      <td>20</td>\n",
       "      <td>Money Train</td>\n",
       "      <td>Action, Comedy, Crime, Drama, Thriller</td>\n",
       "      <td>tt0113845</td>\n",
       "      <td>Two foster brothers work as transit cops. Whil...</td>\n",
       "      <td>data/posters/20-money-train.jpeg</td>\n",
       "    </tr>\n",
       "    <tr>\n",
       "      <th>20</th>\n",
       "      <td>21</td>\n",
       "      <td>Get Shorty</td>\n",
       "      <td>Comedy, Crime, Thriller</td>\n",
       "      <td>tt0113161</td>\n",
       "      <td>Some guys get all the luck, whether they like ...</td>\n",
       "      <td>data/posters/21-get-shorty.jpeg</td>\n",
       "    </tr>\n",
       "    <tr>\n",
       "      <th>21</th>\n",
       "      <td>22</td>\n",
       "      <td>Copycat</td>\n",
       "      <td>Drama, Mystery, Thriller</td>\n",
       "      <td>tt0112722</td>\n",
       "      <td>In San Francisco, the criminal psychologist He...</td>\n",
       "      <td>data/posters/22-copycat.jpeg</td>\n",
       "    </tr>\n",
       "    <tr>\n",
       "      <th>22</th>\n",
       "      <td>23</td>\n",
       "      <td>Assassins</td>\n",
       "      <td>Action, Crime, Thriller</td>\n",
       "      <td>tt0112401</td>\n",
       "      <td>Robert Rath is a seasoned hitman who just want...</td>\n",
       "      <td>data/posters/23-assassins.jpeg</td>\n",
       "    </tr>\n",
       "    <tr>\n",
       "      <th>23</th>\n",
       "      <td>24</td>\n",
       "      <td>Powder</td>\n",
       "      <td>Drama, Fantasy, Mystery, Sci-Fi, Thriller</td>\n",
       "      <td>tt0114168</td>\n",
       "      <td>When sheriff Barnum investigates the death of ...</td>\n",
       "      <td>data/posters/24-powder.jpeg</td>\n",
       "    </tr>\n",
       "    <tr>\n",
       "      <th>24</th>\n",
       "      <td>25</td>\n",
       "      <td>Leaving Las Vegas</td>\n",
       "      <td>Drama, Romance</td>\n",
       "      <td>tt0113627</td>\n",
       "      <td>Because his wife left him and took his son wit...</td>\n",
       "      <td>data/posters/25-leaving-las-vegas.jpeg</td>\n",
       "    </tr>\n",
       "    <tr>\n",
       "      <th>25</th>\n",
       "      <td>26</td>\n",
       "      <td>Othello</td>\n",
       "      <td>Drama, Romance</td>\n",
       "      <td>tt0114057</td>\n",
       "      <td>Iago convinces Othello, The Moor of Venice tha...</td>\n",
       "      <td>data/posters/26-othello.jpeg</td>\n",
       "    </tr>\n",
       "    <tr>\n",
       "      <th>26</th>\n",
       "      <td>27</td>\n",
       "      <td>Now and Then</td>\n",
       "      <td>Comedy, Drama, Romance</td>\n",
       "      <td>tt0114011</td>\n",
       "      <td>Roberta, Teeny, Samantha and Chrissy have been...</td>\n",
       "      <td>data/posters/27-now-and-then.jpeg</td>\n",
       "    </tr>\n",
       "    <tr>\n",
       "      <th>27</th>\n",
       "      <td>28</td>\n",
       "      <td>Persuasion</td>\n",
       "      <td>Drama, Romance</td>\n",
       "      <td>tt0114117</td>\n",
       "      <td>Eight years earlier, Anne Elliot, the daughter...</td>\n",
       "      <td>data/posters/28-persuasion.jpeg</td>\n",
       "    </tr>\n",
       "    <tr>\n",
       "      <th>28</th>\n",
       "      <td>29</td>\n",
       "      <td>The City of Lost Children</td>\n",
       "      <td>Fantasy, Sci-Fi</td>\n",
       "      <td>tt0112682</td>\n",
       "      <td>Set in a dystopian society, someone is kidnapp...</td>\n",
       "      <td>data/posters/29-the-city-of-lost-children.jpeg</td>\n",
       "    </tr>\n",
       "    <tr>\n",
       "      <th>29</th>\n",
       "      <td>30</td>\n",
       "      <td>Shanghai Triad</td>\n",
       "      <td>Crime, Drama, History, Romance, Thriller</td>\n",
       "      <td>tt0115012</td>\n",
       "      <td>Uncle Liu brings his cousin to Shanghai to wor...</td>\n",
       "      <td>data/posters/30-shanghai-triad.jpeg</td>\n",
       "    </tr>\n",
       "    <tr>\n",
       "      <th>30</th>\n",
       "      <td>31</td>\n",
       "      <td>Dangerous Minds</td>\n",
       "      <td>Biography, Drama</td>\n",
       "      <td>tt0112792</td>\n",
       "      <td>Louanne Johnson is an ex-marine, hired as a te...</td>\n",
       "      <td>data/posters/31-dangerous-minds.jpeg</td>\n",
       "    </tr>\n",
       "    <tr>\n",
       "      <th>31</th>\n",
       "      <td>32</td>\n",
       "      <td>12 Monkeys</td>\n",
       "      <td>Mystery, Sci-Fi, Thriller</td>\n",
       "      <td>tt0114746</td>\n",
       "      <td>An unknown and lethal virus has wiped out five...</td>\n",
       "      <td>data/posters/32-12-monkeys.jpeg</td>\n",
       "    </tr>\n",
       "    <tr>\n",
       "      <th>32</th>\n",
       "      <td>34</td>\n",
       "      <td>Babe</td>\n",
       "      <td>Comedy, Drama, Family</td>\n",
       "      <td>tt0112431</td>\n",
       "      <td>Gentle farmer Arthur Hoggett wins a piglet nam...</td>\n",
       "      <td>data/posters/34-babe.jpeg</td>\n",
       "    </tr>\n",
       "    <tr>\n",
       "      <th>33</th>\n",
       "      <td>36</td>\n",
       "      <td>Dead Man Walking</td>\n",
       "      <td>Crime, Drama</td>\n",
       "      <td>tt0112818</td>\n",
       "      <td>A convicted murderer on Death Row and the nun ...</td>\n",
       "      <td>data/posters/36-dead-man-walking.jpeg</td>\n",
       "    </tr>\n",
       "    <tr>\n",
       "      <th>34</th>\n",
       "      <td>38</td>\n",
       "      <td>It Takes Two</td>\n",
       "      <td>Comedy, Family, Romance</td>\n",
       "      <td>tt0113442</td>\n",
       "      <td>Alyssa (a rich girl) and Amanda (an orphan) ar...</td>\n",
       "      <td>data/posters/38-it-takes-two.jpeg</td>\n",
       "    </tr>\n",
       "    <tr>\n",
       "      <th>35</th>\n",
       "      <td>39</td>\n",
       "      <td>Clueless</td>\n",
       "      <td>Comedy, Romance</td>\n",
       "      <td>tt0112697</td>\n",
       "      <td>Cher, a high school student in Beverly Hills, ...</td>\n",
       "      <td>data/posters/39-clueless.jpeg</td>\n",
       "    </tr>\n",
       "    <tr>\n",
       "      <th>36</th>\n",
       "      <td>40</td>\n",
       "      <td>Cry, the Beloved Country</td>\n",
       "      <td>Drama, Thriller</td>\n",
       "      <td>tt0112749</td>\n",
       "      <td>South African church minister Steven Kumalo is...</td>\n",
       "      <td>data/posters/40-cry-the-beloved-country.jpeg</td>\n",
       "    </tr>\n",
       "    <tr>\n",
       "      <th>37</th>\n",
       "      <td>41</td>\n",
       "      <td>Richard III</td>\n",
       "      <td>Drama, Sci-Fi, War</td>\n",
       "      <td>tt0114279</td>\n",
       "      <td>William Shakespeare's classic play is brought ...</td>\n",
       "      <td>data/posters/41-richard-iii.jpeg</td>\n",
       "    </tr>\n",
       "    <tr>\n",
       "      <th>38</th>\n",
       "      <td>42</td>\n",
       "      <td>Dead Presidents</td>\n",
       "      <td>Action, Crime, Drama, Thriller, War</td>\n",
       "      <td>tt0112819</td>\n",
       "      <td>This action film, directed by the Hughes broth...</td>\n",
       "      <td>data/posters/42-dead-presidents.jpeg</td>\n",
       "    </tr>\n",
       "    <tr>\n",
       "      <th>39</th>\n",
       "      <td>43</td>\n",
       "      <td>Restoration</td>\n",
       "      <td>Biography, Drama, History, Romance</td>\n",
       "      <td>tt0114272</td>\n",
       "      <td>An aspiring young physician, Robert Merivel fo...</td>\n",
       "      <td>data/posters/43-restoration.jpeg</td>\n",
       "    </tr>\n",
       "    <tr>\n",
       "      <th>40</th>\n",
       "      <td>44</td>\n",
       "      <td>Mortal Kombat</td>\n",
       "      <td>Action, Adventure, Fantasy, Sci-Fi, Thriller</td>\n",
       "      <td>tt0113855</td>\n",
       "      <td>Based on the popular video game of the same na...</td>\n",
       "      <td>data/posters/44-mortal-kombat.jpeg</td>\n",
       "    </tr>\n",
       "    <tr>\n",
       "      <th>41</th>\n",
       "      <td>45</td>\n",
       "      <td>To Die For</td>\n",
       "      <td>Comedy, Crime, Drama, Thriller</td>\n",
       "      <td>tt0114681</td>\n",
       "      <td>Suzanne Stone (Maretto) knows exactly what she...</td>\n",
       "      <td>data/posters/45-to-die-for.jpeg</td>\n",
       "    </tr>\n",
       "    <tr>\n",
       "      <th>42</th>\n",
       "      <td>46</td>\n",
       "      <td>How to Make an American Quilt</td>\n",
       "      <td>Comedy, Drama, Romance</td>\n",
       "      <td>tt0113347</td>\n",
       "      <td>Finn is a young graduate student, finishing a ...</td>\n",
       "      <td>data/posters/46-how-to-make-an-american-quilt....</td>\n",
       "    </tr>\n",
       "    <tr>\n",
       "      <th>43</th>\n",
       "      <td>47</td>\n",
       "      <td>Se7en</td>\n",
       "      <td>Crime, Drama, Mystery, Thriller</td>\n",
       "      <td>tt0114369</td>\n",
       "      <td>A film about two homicide detectives' (Morgan ...</td>\n",
       "      <td>data/posters/47-se7en.jpeg</td>\n",
       "    </tr>\n",
       "    <tr>\n",
       "      <th>44</th>\n",
       "      <td>48</td>\n",
       "      <td>Pocahontas</td>\n",
       "      <td>Animation, Adventure, Drama, Family, Musical, ...</td>\n",
       "      <td>tt0114148</td>\n",
       "      <td>This is the Disney animated tale of the romanc...</td>\n",
       "      <td>data/posters/48-pocahontas.jpeg</td>\n",
       "    </tr>\n",
       "    <tr>\n",
       "      <th>45</th>\n",
       "      <td>49</td>\n",
       "      <td>When Night Is Falling</td>\n",
       "      <td>Drama, Romance</td>\n",
       "      <td>tt0114916</td>\n",
       "      <td>Camille and Martin are in love and teachers at...</td>\n",
       "      <td>data/posters/49-when-night-is-falling.jpeg</td>\n",
       "    </tr>\n",
       "    <tr>\n",
       "      <th>46</th>\n",
       "      <td>50</td>\n",
       "      <td>The Usual Suspects</td>\n",
       "      <td>Crime, Mystery, Thriller</td>\n",
       "      <td>tt0114814</td>\n",
       "      <td>Following a truck hijack in New York, five con...</td>\n",
       "      <td>data/posters/50-the-usual-suspects.jpeg</td>\n",
       "    </tr>\n",
       "    <tr>\n",
       "      <th>47</th>\n",
       "      <td>52</td>\n",
       "      <td>Mighty Aphrodite</td>\n",
       "      <td>Comedy, Fantasy, Romance</td>\n",
       "      <td>tt0113819</td>\n",
       "      <td>Lenny and Amanda have an adopted son Max who t...</td>\n",
       "      <td>data/posters/52-mighty-aphrodite.jpeg</td>\n",
       "    </tr>\n",
       "    <tr>\n",
       "      <th>48</th>\n",
       "      <td>53</td>\n",
       "      <td>Lamerica</td>\n",
       "      <td>Drama</td>\n",
       "      <td>tt0110299</td>\n",
       "      <td>Two Italian racketeers come to Albania just af...</td>\n",
       "      <td>data/posters/53-lamerica.jpeg</td>\n",
       "    </tr>\n",
       "    <tr>\n",
       "      <th>49</th>\n",
       "      <td>54</td>\n",
       "      <td>The Big Green</td>\n",
       "      <td>Comedy, Family, Sport</td>\n",
       "      <td>tt0112499</td>\n",
       "      <td>Another Disney underdog sports team of misfit ...</td>\n",
       "      <td>data/posters/54-the-big-green.jpeg</td>\n",
       "    </tr>\n",
       "  </tbody>\n",
       "</table>\n",
       "</div>"
      ],
      "text/plain": [
       "    id                           title  \\\n",
       "0    1                       Toy Story   \n",
       "1    2                         Jumanji   \n",
       "2    3                Grumpier Old Men   \n",
       "3    4               Waiting to Exhale   \n",
       "4    5     Father of the Bride Part II   \n",
       "5    6                            Heat   \n",
       "6    7                         Sabrina   \n",
       "7    8                    Tom and Huck   \n",
       "8    9                    Sudden Death   \n",
       "9   10                       GoldenEye   \n",
       "10  11          The American President   \n",
       "11  12     Dracula: Dead and Loving It   \n",
       "12  13                           Balto   \n",
       "13  14                           Nixon   \n",
       "14  15                Cutthroat Island   \n",
       "15  16                          Casino   \n",
       "16  17           Sense and Sensibility   \n",
       "17  18                      Four Rooms   \n",
       "18  19  Ace Ventura: When Nature Calls   \n",
       "19  20                     Money Train   \n",
       "20  21                      Get Shorty   \n",
       "21  22                         Copycat   \n",
       "22  23                       Assassins   \n",
       "23  24                          Powder   \n",
       "24  25               Leaving Las Vegas   \n",
       "25  26                         Othello   \n",
       "26  27                    Now and Then   \n",
       "27  28                      Persuasion   \n",
       "28  29       The City of Lost Children   \n",
       "29  30                  Shanghai Triad   \n",
       "30  31                 Dangerous Minds   \n",
       "31  32                      12 Monkeys   \n",
       "32  34                            Babe   \n",
       "33  36                Dead Man Walking   \n",
       "34  38                    It Takes Two   \n",
       "35  39                        Clueless   \n",
       "36  40        Cry, the Beloved Country   \n",
       "37  41                     Richard III   \n",
       "38  42                 Dead Presidents   \n",
       "39  43                     Restoration   \n",
       "40  44                   Mortal Kombat   \n",
       "41  45                      To Die For   \n",
       "42  46   How to Make an American Quilt   \n",
       "43  47                           Se7en   \n",
       "44  48                      Pocahontas   \n",
       "45  49           When Night Is Falling   \n",
       "46  50              The Usual Suspects   \n",
       "47  52                Mighty Aphrodite   \n",
       "48  53                        Lamerica   \n",
       "49  54                   The Big Green   \n",
       "\n",
       "                                                genre  imdb_link  \\\n",
       "0       Animation, Adventure, Comedy, Family, Fantasy  tt0114709   \n",
       "1                  Adventure, Comedy, Family, Fantasy  tt0113497   \n",
       "2                                     Comedy, Romance  tt0113228   \n",
       "3                              Comedy, Drama, Romance  tt0114885   \n",
       "4                             Comedy, Family, Romance  tt0113041   \n",
       "5                              Crime, Drama, Thriller  tt0113277   \n",
       "6                              Comedy, Drama, Romance  tt0114319   \n",
       "7   Adventure, Comedy, Drama, Family, Romance, Wes...  tt0112302   \n",
       "8                             Action, Crime, Thriller  tt0114576   \n",
       "9                         Action, Adventure, Thriller  tt0113189   \n",
       "10                             Comedy, Drama, Romance  tt0112346   \n",
       "11                            Comedy, Fantasy, Horror  tt0112896   \n",
       "12       Animation, Adventure, Drama, Family, History  tt0112453   \n",
       "13                          Biography, Drama, History  tt0113987   \n",
       "14                          Action, Adventure, Comedy  tt0112760   \n",
       "15                                       Crime, Drama  tt0112641   \n",
       "16                                     Drama, Romance  tt0114388   \n",
       "17                                             Comedy  tt0113101   \n",
       "18                           Adventure, Comedy, Crime  tt0112281   \n",
       "19             Action, Comedy, Crime, Drama, Thriller  tt0113845   \n",
       "20                            Comedy, Crime, Thriller  tt0113161   \n",
       "21                           Drama, Mystery, Thriller  tt0112722   \n",
       "22                            Action, Crime, Thriller  tt0112401   \n",
       "23          Drama, Fantasy, Mystery, Sci-Fi, Thriller  tt0114168   \n",
       "24                                     Drama, Romance  tt0113627   \n",
       "25                                     Drama, Romance  tt0114057   \n",
       "26                             Comedy, Drama, Romance  tt0114011   \n",
       "27                                     Drama, Romance  tt0114117   \n",
       "28                                    Fantasy, Sci-Fi  tt0112682   \n",
       "29           Crime, Drama, History, Romance, Thriller  tt0115012   \n",
       "30                                   Biography, Drama  tt0112792   \n",
       "31                          Mystery, Sci-Fi, Thriller  tt0114746   \n",
       "32                              Comedy, Drama, Family  tt0112431   \n",
       "33                                       Crime, Drama  tt0112818   \n",
       "34                            Comedy, Family, Romance  tt0113442   \n",
       "35                                    Comedy, Romance  tt0112697   \n",
       "36                                    Drama, Thriller  tt0112749   \n",
       "37                                 Drama, Sci-Fi, War  tt0114279   \n",
       "38                Action, Crime, Drama, Thriller, War  tt0112819   \n",
       "39                 Biography, Drama, History, Romance  tt0114272   \n",
       "40       Action, Adventure, Fantasy, Sci-Fi, Thriller  tt0113855   \n",
       "41                     Comedy, Crime, Drama, Thriller  tt0114681   \n",
       "42                             Comedy, Drama, Romance  tt0113347   \n",
       "43                    Crime, Drama, Mystery, Thriller  tt0114369   \n",
       "44  Animation, Adventure, Drama, Family, Musical, ...  tt0114148   \n",
       "45                                     Drama, Romance  tt0114916   \n",
       "46                           Crime, Mystery, Thriller  tt0114814   \n",
       "47                           Comedy, Fantasy, Romance  tt0113819   \n",
       "48                                              Drama  tt0110299   \n",
       "49                              Comedy, Family, Sport  tt0112499   \n",
       "\n",
       "                                                 plot  \\\n",
       "0   A little boy named Andy loves to be in his roo...   \n",
       "1   After being trapped in a jungle board game for...   \n",
       "2   Things don't seem to change much in Wabasha Co...   \n",
       "3   This story based on the best selling novel by ...   \n",
       "4   In this sequel to \"Father of the Bride\", Georg...   \n",
       "5   Hunters and their prey--Neil and his professio...   \n",
       "6   While she was growing up, Sabrina Fairchild sp...   \n",
       "7   A mischievous young boy, Tom Sawyer (Jonathan ...   \n",
       "8   Some terrorists kidnap the Vice President of t...   \n",
       "9   When a deadly satellite weapon system falls in...   \n",
       "10  Andrew Shepherd is approaching the end of his ...   \n",
       "11  Another spoof from the mind of Mel Brooks. Thi...   \n",
       "12  A half-wolf, half-husky named Balto gets a cha...   \n",
       "13  Director Oliver Stone's exploration of former ...   \n",
       "14  Morgan Adams and her slave, William Shaw, are ...   \n",
       "15  This Martin Scorsese film depicts the Janus-li...   \n",
       "16  When Mr. Dashwood dies, he must leave the bulk...   \n",
       "17  This movie features the collaborative director...   \n",
       "18  Ace Ventura, emerging from self-imposed exile ...   \n",
       "19  Two foster brothers work as transit cops. Whil...   \n",
       "20  Some guys get all the luck, whether they like ...   \n",
       "21  In San Francisco, the criminal psychologist He...   \n",
       "22  Robert Rath is a seasoned hitman who just want...   \n",
       "23  When sheriff Barnum investigates the death of ...   \n",
       "24  Because his wife left him and took his son wit...   \n",
       "25  Iago convinces Othello, The Moor of Venice tha...   \n",
       "26  Roberta, Teeny, Samantha and Chrissy have been...   \n",
       "27  Eight years earlier, Anne Elliot, the daughter...   \n",
       "28  Set in a dystopian society, someone is kidnapp...   \n",
       "29  Uncle Liu brings his cousin to Shanghai to wor...   \n",
       "30  Louanne Johnson is an ex-marine, hired as a te...   \n",
       "31  An unknown and lethal virus has wiped out five...   \n",
       "32  Gentle farmer Arthur Hoggett wins a piglet nam...   \n",
       "33  A convicted murderer on Death Row and the nun ...   \n",
       "34  Alyssa (a rich girl) and Amanda (an orphan) ar...   \n",
       "35  Cher, a high school student in Beverly Hills, ...   \n",
       "36  South African church minister Steven Kumalo is...   \n",
       "37  William Shakespeare's classic play is brought ...   \n",
       "38  This action film, directed by the Hughes broth...   \n",
       "39  An aspiring young physician, Robert Merivel fo...   \n",
       "40  Based on the popular video game of the same na...   \n",
       "41  Suzanne Stone (Maretto) knows exactly what she...   \n",
       "42  Finn is a young graduate student, finishing a ...   \n",
       "43  A film about two homicide detectives' (Morgan ...   \n",
       "44  This is the Disney animated tale of the romanc...   \n",
       "45  Camille and Martin are in love and teachers at...   \n",
       "46  Following a truck hijack in New York, five con...   \n",
       "47  Lenny and Amanda have an adopted son Max who t...   \n",
       "48  Two Italian racketeers come to Albania just af...   \n",
       "49  Another Disney underdog sports team of misfit ...   \n",
       "\n",
       "                                          poster_path  \n",
       "0                       data/posters/1-toy-story.jpeg  \n",
       "1                         data/posters/2-jumanji.jpeg  \n",
       "2                data/posters/3-grumpier-old-men.jpeg  \n",
       "3               data/posters/4-waiting-to-exhale.jpeg  \n",
       "4     data/posters/5-father-of-the-bride-part-ii.jpeg  \n",
       "5                            data/posters/6-heat.jpeg  \n",
       "6                         data/posters/7-sabrina.jpeg  \n",
       "7                    data/posters/8-tom-and-huck.jpeg  \n",
       "8                    data/posters/9-sudden-death.jpeg  \n",
       "9                      data/posters/10-goldeneye.jpeg  \n",
       "10        data/posters/11-the-american-president.jpeg  \n",
       "11    data/posters/12-dracula-dead-and-loving-it.jpeg  \n",
       "12                         data/posters/13-balto.jpeg  \n",
       "13                         data/posters/14-nixon.jpeg  \n",
       "14              data/posters/15-cutthroat-island.jpeg  \n",
       "15                        data/posters/16-casino.jpeg  \n",
       "16         data/posters/17-sense-and-sensibility.jpeg  \n",
       "17                    data/posters/18-four-rooms.jpeg  \n",
       "18  data/posters/19-ace-ventura-when-nature-calls....  \n",
       "19                   data/posters/20-money-train.jpeg  \n",
       "20                    data/posters/21-get-shorty.jpeg  \n",
       "21                       data/posters/22-copycat.jpeg  \n",
       "22                     data/posters/23-assassins.jpeg  \n",
       "23                        data/posters/24-powder.jpeg  \n",
       "24             data/posters/25-leaving-las-vegas.jpeg  \n",
       "25                       data/posters/26-othello.jpeg  \n",
       "26                  data/posters/27-now-and-then.jpeg  \n",
       "27                    data/posters/28-persuasion.jpeg  \n",
       "28     data/posters/29-the-city-of-lost-children.jpeg  \n",
       "29                data/posters/30-shanghai-triad.jpeg  \n",
       "30               data/posters/31-dangerous-minds.jpeg  \n",
       "31                    data/posters/32-12-monkeys.jpeg  \n",
       "32                          data/posters/34-babe.jpeg  \n",
       "33              data/posters/36-dead-man-walking.jpeg  \n",
       "34                  data/posters/38-it-takes-two.jpeg  \n",
       "35                      data/posters/39-clueless.jpeg  \n",
       "36       data/posters/40-cry-the-beloved-country.jpeg  \n",
       "37                   data/posters/41-richard-iii.jpeg  \n",
       "38               data/posters/42-dead-presidents.jpeg  \n",
       "39                   data/posters/43-restoration.jpeg  \n",
       "40                 data/posters/44-mortal-kombat.jpeg  \n",
       "41                    data/posters/45-to-die-for.jpeg  \n",
       "42  data/posters/46-how-to-make-an-american-quilt....  \n",
       "43                         data/posters/47-se7en.jpeg  \n",
       "44                    data/posters/48-pocahontas.jpeg  \n",
       "45         data/posters/49-when-night-is-falling.jpeg  \n",
       "46            data/posters/50-the-usual-suspects.jpeg  \n",
       "47              data/posters/52-mighty-aphrodite.jpeg  \n",
       "48                      data/posters/53-lamerica.jpeg  \n",
       "49                 data/posters/54-the-big-green.jpeg  "
      ]
     },
     "execution_count": 9,
     "metadata": {},
     "output_type": "execute_result"
    }
   ],
   "source": [
    "train_csv"
   ]
  },
  {
   "cell_type": "markdown",
   "metadata": {},
   "source": [
    "# Process Genre Tags"
   ]
  },
  {
   "cell_type": "code",
   "execution_count": 10,
   "metadata": {
    "code_folding": [
     0
    ]
   },
   "outputs": [],
   "source": [
    "def get_genres(genre):\n",
    "    genre_set = []\n",
    "\n",
    "    for i in genre:\n",
    "        \n",
    "        genres = i.split(',')\n",
    "        \n",
    "        for g in genres:\n",
    "\n",
    "            g = g.strip()\n",
    "\n",
    "            if g not in genre_set:\n",
    "                genre_set.append(g)\n",
    "\n",
    "        idx2genre = dict(enumerate(genre_set))\n",
    "        genre2idx = {g : idx for idx, g in idx2genre.items()}\n",
    "    \n",
    "    return idx2genre, genre2idx"
   ]
  },
  {
   "cell_type": "code",
   "execution_count": 11,
   "metadata": {
    "code_folding": [
     0
    ]
   },
   "outputs": [],
   "source": [
    "def count_genre(genre, genre2idx):\n",
    "    \n",
    "    genre_counts = {genre : 0 for genre in genre2idx.keys()}\n",
    "    \n",
    "    for i in genre:\n",
    "        \n",
    "        genres = i.split(',')\n",
    "        \n",
    "        for g in genres:\n",
    "\n",
    "            g = g.strip()\n",
    "            \n",
    "            genre_counts[g] += 1\n",
    "            \n",
    "    return genre_counts"
   ]
  },
  {
   "cell_type": "code",
   "execution_count": 16,
   "metadata": {
    "code_folding": []
   },
   "outputs": [],
   "source": [
    "def encode_genres(genres, genre2idx):\n",
    "    \n",
    "    encoded_genres = []\n",
    "    \n",
    "    vector_size = len(genre2idx)\n",
    "    \n",
    "    for i in genres:\n",
    "            \n",
    "        empty_vec = np.zeros(vector_size)    \n",
    "        encoded = [genre2idx[x.strip()] for x in i.split(',') if i in genre2idx]\n",
    "        \n",
    "        for i in encoded:\n",
    "            empty_vec[i] = 1\n",
    "            \n",
    "        encoded_genres.append(empty_vec)\n",
    "        \n",
    "    return encoded_genres"
   ]
  },
  {
   "cell_type": "code",
   "execution_count": 17,
   "metadata": {
    "code_folding": [
     0
    ]
   },
   "outputs": [],
   "source": [
    "def encode_genre(genre, genre2idx):\n",
    "    \n",
    "    encoded_genre = torch.LongTensor([genre2idx[g.strip()] for g in genre])\n",
    "        \n",
    "    return encoded_genre"
   ]
  },
  {
   "cell_type": "code",
   "execution_count": 18,
   "metadata": {},
   "outputs": [],
   "source": [
    "genre = train_csv['genre'].tolist()[:train_upto]\n",
    "test_genre = test_csv['genre'].tolist()[:test_upto]\n",
    "idx2genre, genre2idx = get_genres(genre)\n",
    "genre_counts = count_genre(genre, genre2idx)\n",
    "encoded_genres = encode_genres(genre, genre2idx)"
   ]
  },
  {
   "cell_type": "code",
   "execution_count": 19,
   "metadata": {},
   "outputs": [],
   "source": [
    "test_encoded_genres = encode_genres(test_genre, genre2idx)"
   ]
  },
  {
   "cell_type": "markdown",
   "metadata": {},
   "source": [
    "# Process Plot and Build Vocab"
   ]
  },
  {
   "cell_type": "code",
   "execution_count": 20,
   "metadata": {},
   "outputs": [],
   "source": [
    "import re\n",
    "from tqdm.notebook import tqdm"
   ]
  },
  {
   "cell_type": "code",
   "execution_count": 21,
   "metadata": {
    "code_folding": [
     0
    ]
   },
   "outputs": [],
   "source": [
    "def reg_remove(plot):\n",
    "    remove_non_words = re.compile(r'[^\\w -]')\n",
    "    clean = re.sub(remove_non_words, '', plot)\n",
    "    return clean\n"
   ]
  },
  {
   "cell_type": "code",
   "execution_count": 22,
   "metadata": {
    "code_folding": [
     0
    ]
   },
   "outputs": [],
   "source": [
    "def build_vocab(plots, train=None):\n",
    "    \n",
    "    vocab = {}\n",
    "    processed_plots = []\n",
    "    \n",
    "    for plot in tqdm(plots):\n",
    "\n",
    "        plot = reg_remove(plot.lower()).split(' ')\n",
    "        plot.insert(0, '<start>')\n",
    "        plot.append('<end>')\n",
    "        \n",
    "        if train:\n",
    "            for token in plot:\n",
    "\n",
    "                if token not in vocab:\n",
    "                    vocab[token] = len(vocab) +1 \n",
    "        \n",
    "        processed_plots.append(plot)\n",
    "    \n",
    "    if train:\n",
    "        idx2wrd = {idx : wrd for wrd,idx in vocab.items()}\n",
    "        return vocab, idx2wrd, processed_plots\n",
    "    \n",
    "    return processed_plots"
   ]
  },
  {
   "cell_type": "code",
   "execution_count": 23,
   "metadata": {},
   "outputs": [],
   "source": [
    "plots = train_csv['plot'].tolist()[:train_upto]\n",
    "test_plots=test_csv['plot'].tolist()[:test_upto]"
   ]
  },
  {
   "cell_type": "code",
   "execution_count": 24,
   "metadata": {},
   "outputs": [
    {
     "data": {
      "application/vnd.jupyter.widget-view+json": {
       "model_id": "c976be16656e45a7852618737c42c5ae",
       "version_major": 2,
       "version_minor": 0
      },
      "text/plain": [
       "HBox(children=(FloatProgress(value=0.0, max=50.0), HTML(value='')))"
      ]
     },
     "metadata": {},
     "output_type": "display_data"
    },
    {
     "name": "stdout",
     "output_type": "stream",
     "text": [
      "\n"
     ]
    }
   ],
   "source": [
    "wrd2idx, idx2wrd, processed_plots = build_vocab(plots, train=True)"
   ]
  },
  {
   "cell_type": "code",
   "execution_count": 25,
   "metadata": {},
   "outputs": [
    {
     "data": {
      "application/vnd.jupyter.widget-view+json": {
       "model_id": "7b07c2079243405687efab79d2182e67",
       "version_major": 2,
       "version_minor": 0
      },
      "text/plain": [
       "HBox(children=(FloatProgress(value=0.0, max=25.0), HTML(value='')))"
      ]
     },
     "metadata": {},
     "output_type": "display_data"
    },
    {
     "name": "stdout",
     "output_type": "stream",
     "text": [
      "\n"
     ]
    }
   ],
   "source": [
    "test_processed_plots = build_vocab(test_plots, train=None)"
   ]
  },
  {
   "cell_type": "code",
   "execution_count": 26,
   "metadata": {},
   "outputs": [],
   "source": [
    "from torch.nn.utils.rnn import pad_sequence"
   ]
  },
  {
   "cell_type": "code",
   "execution_count": 27,
   "metadata": {
    "code_folding": [
     0
    ]
   },
   "outputs": [],
   "source": [
    "def encode(plot, wrd2idx):\n",
    "    \n",
    "    encoded_plot = []\n",
    "    \n",
    "    for token in plot:\n",
    "        \n",
    "        if token in wrd2idx:\n",
    "            encoded_plot.append(wrd2idx[token])\n",
    "            \n",
    "        else:\n",
    "            encoded_plot.append(len(wrd2idx)+1)\n",
    "            \n",
    "    return encoded_plot"
   ]
  },
  {
   "cell_type": "code",
   "execution_count": 28,
   "metadata": {
    "code_folding": [
     0
    ]
   },
   "outputs": [],
   "source": [
    "def encode_plots(plots, wrd2idx):\n",
    "    \n",
    "    encoded = []\n",
    "    \n",
    "    for i in tqdm(plots):\n",
    "        encoded.append(torch.LongTensor(encode(i, wrd2idx)))\n",
    "        \n",
    "    return pad_sequence(encoded,batch_first=True)"
   ]
  },
  {
   "cell_type": "code",
   "execution_count": 29,
   "metadata": {},
   "outputs": [
    {
     "data": {
      "application/vnd.jupyter.widget-view+json": {
       "model_id": "94d1156a8d554da49358a6f4c87d91b1",
       "version_major": 2,
       "version_minor": 0
      },
      "text/plain": [
       "HBox(children=(FloatProgress(value=0.0, max=50.0), HTML(value='')))"
      ]
     },
     "metadata": {},
     "output_type": "display_data"
    },
    {
     "name": "stdout",
     "output_type": "stream",
     "text": [
      "\n"
     ]
    },
    {
     "data": {
      "application/vnd.jupyter.widget-view+json": {
       "model_id": "12dc93f13a824200a13269e63d069047",
       "version_major": 2,
       "version_minor": 0
      },
      "text/plain": [
       "HBox(children=(FloatProgress(value=0.0, max=25.0), HTML(value='')))"
      ]
     },
     "metadata": {},
     "output_type": "display_data"
    },
    {
     "name": "stdout",
     "output_type": "stream",
     "text": [
      "\n"
     ]
    }
   ],
   "source": [
    "encoded = encode_plots(processed_plots, wrd2idx)\n",
    "test_encoded = encode_plots(test_processed_plots, wrd2idx)"
   ]
  },
  {
   "cell_type": "code",
   "execution_count": 30,
   "metadata": {},
   "outputs": [],
   "source": [
    "from torch.utils.data import Dataset, DataLoader"
   ]
  },
  {
   "cell_type": "code",
   "execution_count": 42,
   "metadata": {
    "code_folding": [
     17
    ]
   },
   "outputs": [],
   "source": [
    "class FilmClassifier(Dataset):\n",
    "    \n",
    "    def __init__(self, df, X, y):\n",
    "        \n",
    "        self.df = df\n",
    "        self.X=X\n",
    "        self.y=y\n",
    "    \n",
    "    def processed_path(self, path):\n",
    "        path = path.split('/')\n",
    "        path[1] = 'processed_posters'\n",
    "        x = path[2].split('.')\n",
    "        path[2] = '{}-processed.jpeg'.format(x[0])\n",
    "        return '/'.join(path)\n",
    "    \n",
    "    def process_image(self, filename, from_path=True):\n",
    "    \n",
    "        if from_path == False:\n",
    "\n",
    "            input_image = Image.open(filename)\n",
    "            transformed = transform(input_image)\n",
    "            filename = filename.split('/')[-1][:-5]\n",
    "            filename = 'data/processed_posters/{}-processed.jpeg'.format(filename)\n",
    "\n",
    "            output_image(transformed, filename)\n",
    "            return transformed\n",
    "\n",
    "        else:\n",
    "\n",
    "            transformed = transform(Image.open(filename))\n",
    "            return transformed\n",
    "        \n",
    "    def __len__(self):\n",
    "        return len(self.X)\n",
    "    \n",
    "    def __getitem__(self, idx):\n",
    "        \n",
    "        return {'id' : self.df.loc[idx]['id'],\n",
    "                'title' : self.df.loc[idx]['title'],\n",
    "                'genre' : self.df.loc[idx]['genre'],\n",
    "                'poster_path' : self.process_image(self.processed_path(self.df.loc[idx]['poster_path'])),\n",
    "                'plot' : self.df.loc[idx]['plot'],\n",
    "                'encoded_plot' : self.X[idx],\n",
    "                'encoded_genre' : self.y[idx]\n",
    "                }"
   ]
  },
  {
   "cell_type": "code",
   "execution_count": 43,
   "metadata": {},
   "outputs": [],
   "source": [
    "train_dataset = FilmClassifier(train_csv, encoded, encoded_genres)\n",
    "test_dataset = FilmClassifier(test_csv, test_encoded, test_encoded_genres)"
   ]
  },
  {
   "cell_type": "code",
   "execution_count": 44,
   "metadata": {},
   "outputs": [
    {
     "ename": "FileNotFoundError",
     "evalue": "[Errno 2] No such file or directory: 'data/processed_posters/1-toy-story-processed.jpeg'",
     "output_type": "error",
     "traceback": [
      "\u001b[0;31m---------------------------------------------------------------------------\u001b[0m",
      "\u001b[0;31mFileNotFoundError\u001b[0m                         Traceback (most recent call last)",
      "\u001b[0;32m<ipython-input-44-a0be1c17c5b0>\u001b[0m in \u001b[0;36m<module>\u001b[0;34m\u001b[0m\n\u001b[0;32m----> 1\u001b[0;31m \u001b[0mtrain_dataset\u001b[0m\u001b[0;34m[\u001b[0m\u001b[0;36m0\u001b[0m\u001b[0;34m]\u001b[0m\u001b[0;34m\u001b[0m\u001b[0;34m\u001b[0m\u001b[0m\n\u001b[0m",
      "\u001b[0;32m<ipython-input-42-926fb11404c6>\u001b[0m in \u001b[0;36m__getitem__\u001b[0;34m(self, idx)\u001b[0m\n\u001b[1;32m     39\u001b[0m                 \u001b[0;34m'title'\u001b[0m \u001b[0;34m:\u001b[0m \u001b[0mself\u001b[0m\u001b[0;34m.\u001b[0m\u001b[0mdf\u001b[0m\u001b[0;34m.\u001b[0m\u001b[0mloc\u001b[0m\u001b[0;34m[\u001b[0m\u001b[0midx\u001b[0m\u001b[0;34m]\u001b[0m\u001b[0;34m[\u001b[0m\u001b[0;34m'title'\u001b[0m\u001b[0;34m]\u001b[0m\u001b[0;34m,\u001b[0m\u001b[0;34m\u001b[0m\u001b[0;34m\u001b[0m\u001b[0m\n\u001b[1;32m     40\u001b[0m                 \u001b[0;34m'genre'\u001b[0m \u001b[0;34m:\u001b[0m \u001b[0mself\u001b[0m\u001b[0;34m.\u001b[0m\u001b[0mdf\u001b[0m\u001b[0;34m.\u001b[0m\u001b[0mloc\u001b[0m\u001b[0;34m[\u001b[0m\u001b[0midx\u001b[0m\u001b[0;34m]\u001b[0m\u001b[0;34m[\u001b[0m\u001b[0;34m'genre'\u001b[0m\u001b[0;34m]\u001b[0m\u001b[0;34m,\u001b[0m\u001b[0;34m\u001b[0m\u001b[0;34m\u001b[0m\u001b[0m\n\u001b[0;32m---> 41\u001b[0;31m                 \u001b[0;34m'poster_path'\u001b[0m \u001b[0;34m:\u001b[0m \u001b[0mself\u001b[0m\u001b[0;34m.\u001b[0m\u001b[0mprocess_image\u001b[0m\u001b[0;34m(\u001b[0m\u001b[0mself\u001b[0m\u001b[0;34m.\u001b[0m\u001b[0mprocessed_path\u001b[0m\u001b[0;34m(\u001b[0m\u001b[0mself\u001b[0m\u001b[0;34m.\u001b[0m\u001b[0mdf\u001b[0m\u001b[0;34m.\u001b[0m\u001b[0mloc\u001b[0m\u001b[0;34m[\u001b[0m\u001b[0midx\u001b[0m\u001b[0;34m]\u001b[0m\u001b[0;34m[\u001b[0m\u001b[0;34m'poster_path'\u001b[0m\u001b[0;34m]\u001b[0m\u001b[0;34m)\u001b[0m\u001b[0;34m)\u001b[0m\u001b[0;34m,\u001b[0m\u001b[0;34m\u001b[0m\u001b[0;34m\u001b[0m\u001b[0m\n\u001b[0m\u001b[1;32m     42\u001b[0m                 \u001b[0;34m'plot'\u001b[0m \u001b[0;34m:\u001b[0m \u001b[0mself\u001b[0m\u001b[0;34m.\u001b[0m\u001b[0mdf\u001b[0m\u001b[0;34m.\u001b[0m\u001b[0mloc\u001b[0m\u001b[0;34m[\u001b[0m\u001b[0midx\u001b[0m\u001b[0;34m]\u001b[0m\u001b[0;34m[\u001b[0m\u001b[0;34m'plot'\u001b[0m\u001b[0;34m]\u001b[0m\u001b[0;34m,\u001b[0m\u001b[0;34m\u001b[0m\u001b[0;34m\u001b[0m\u001b[0m\n\u001b[1;32m     43\u001b[0m                 \u001b[0;34m'encoded_plot'\u001b[0m \u001b[0;34m:\u001b[0m \u001b[0mself\u001b[0m\u001b[0;34m.\u001b[0m\u001b[0mX\u001b[0m\u001b[0;34m[\u001b[0m\u001b[0midx\u001b[0m\u001b[0;34m]\u001b[0m\u001b[0;34m,\u001b[0m\u001b[0;34m\u001b[0m\u001b[0;34m\u001b[0m\u001b[0m\n",
      "\u001b[0;32m<ipython-input-42-926fb11404c6>\u001b[0m in \u001b[0;36mprocess_image\u001b[0;34m(self, filename, from_path)\u001b[0m\n\u001b[1;32m     28\u001b[0m         \u001b[0;32melse\u001b[0m\u001b[0;34m:\u001b[0m\u001b[0;34m\u001b[0m\u001b[0;34m\u001b[0m\u001b[0m\n\u001b[1;32m     29\u001b[0m \u001b[0;34m\u001b[0m\u001b[0m\n\u001b[0;32m---> 30\u001b[0;31m             \u001b[0mtransformed\u001b[0m \u001b[0;34m=\u001b[0m \u001b[0mtransform\u001b[0m\u001b[0;34m(\u001b[0m\u001b[0mImage\u001b[0m\u001b[0;34m.\u001b[0m\u001b[0mopen\u001b[0m\u001b[0;34m(\u001b[0m\u001b[0mfilename\u001b[0m\u001b[0;34m)\u001b[0m\u001b[0;34m)\u001b[0m\u001b[0;34m\u001b[0m\u001b[0;34m\u001b[0m\u001b[0m\n\u001b[0m\u001b[1;32m     31\u001b[0m             \u001b[0;32mreturn\u001b[0m \u001b[0mtransformed\u001b[0m\u001b[0;34m\u001b[0m\u001b[0;34m\u001b[0m\u001b[0m\n\u001b[1;32m     32\u001b[0m \u001b[0;34m\u001b[0m\u001b[0m\n",
      "\u001b[0;32m/usr/local/lib64/python3.7/site-packages/PIL/Image.py\u001b[0m in \u001b[0;36mopen\u001b[0;34m(fp, mode)\u001b[0m\n\u001b[1;32m   2768\u001b[0m \u001b[0;34m\u001b[0m\u001b[0m\n\u001b[1;32m   2769\u001b[0m     \u001b[0;32mif\u001b[0m \u001b[0mfilename\u001b[0m\u001b[0;34m:\u001b[0m\u001b[0;34m\u001b[0m\u001b[0;34m\u001b[0m\u001b[0m\n\u001b[0;32m-> 2770\u001b[0;31m         \u001b[0mfp\u001b[0m \u001b[0;34m=\u001b[0m \u001b[0mbuiltins\u001b[0m\u001b[0;34m.\u001b[0m\u001b[0mopen\u001b[0m\u001b[0;34m(\u001b[0m\u001b[0mfilename\u001b[0m\u001b[0;34m,\u001b[0m \u001b[0;34m\"rb\"\u001b[0m\u001b[0;34m)\u001b[0m\u001b[0;34m\u001b[0m\u001b[0;34m\u001b[0m\u001b[0m\n\u001b[0m\u001b[1;32m   2771\u001b[0m         \u001b[0mexclusive_fp\u001b[0m \u001b[0;34m=\u001b[0m \u001b[0;32mTrue\u001b[0m\u001b[0;34m\u001b[0m\u001b[0;34m\u001b[0m\u001b[0m\n\u001b[1;32m   2772\u001b[0m \u001b[0;34m\u001b[0m\u001b[0m\n",
      "\u001b[0;31mFileNotFoundError\u001b[0m: [Errno 2] No such file or directory: 'data/processed_posters/1-toy-story-processed.jpeg'"
     ]
    }
   ],
   "source": [
    "train_dataset[0]"
   ]
  },
  {
   "cell_type": "code",
   "execution_count": 41,
   "metadata": {},
   "outputs": [],
   "source": [
    "train_dataloader = DataLoader(train_dataset,shuffle=True, batch_size=64)\n",
    "test_dataloader = DataLoader(test_dataset,shuffle=True, batch_size=1)"
   ]
  },
  {
   "cell_type": "code",
   "execution_count": null,
   "metadata": {},
   "outputs": [],
   "source": [
    "with open('data/')"
   ]
  },
  {
   "cell_type": "markdown",
   "metadata": {},
   "source": [
    "# RNN Model"
   ]
  },
  {
   "cell_type": "code",
   "execution_count": 27,
   "metadata": {},
   "outputs": [],
   "source": [
    "import torch.nn as nn\n",
    "import torch.nn.functional as F"
   ]
  },
  {
   "cell_type": "code",
   "execution_count": 28,
   "metadata": {},
   "outputs": [],
   "source": [
    "from torch import nn\n",
    "\n",
    "class SpatialDropout(nn.Dropout2d):\n",
    "    def forward(self, x):\n",
    "        x = x.unsqueeze(2)\n",
    "        x = x.permute(0, 3, 2, 1)\n",
    "        x = super(SpatialDropout, self).forward(x)\n",
    "        x = x.permute(0, 3, 2, 1)\n",
    "        x = x.squeeze(2)\n",
    "        return x"
   ]
  },
  {
   "cell_type": "code",
   "execution_count": 29,
   "metadata": {},
   "outputs": [],
   "source": [
    "class rnn(nn.Module):\n",
    "    \n",
    "    def __init__(self,input_size, vocab_size, hidden_dim, \n",
    "                 embed_dim, n_layers, output_size, batch_size):\n",
    "        super(rnn, self).__init__()\n",
    "        \n",
    "        self.n_layers = n_layers\n",
    "        self.hidden_dim = hidden_dim\n",
    "        self.batch_size = batch_size\n",
    "        \n",
    "        self.embed = nn.Embedding(vocab_size, embed_dim)\n",
    "        self.embedding_dropout = SpatialDropout(0.3)\n",
    "        \n",
    "        self.lstm1 = nn.LSTM(embed_dim, hidden_dim, bidirectional=False, batch_first=True)\n",
    "        self.lstm2 = nn.LSTM(hidden_dim, hidden_dim, bidirectional=False, batch_first=True)\n",
    "        \n",
    "        self.fc1 = nn.Linear(hidden_dim*2, hidden_dim)\n",
    "        self.fc2 = nn.Linear(hidden_dim*2, hidden_dim)\n",
    "        \n",
    "        self.fc_out = nn.Linear(hidden_dim*2, 1)\n",
    "        self.fc_aux_out = nn.Linear(hidden_dim*2, output_size-1)\n",
    "        \n",
    "    def forward(self, x):\n",
    "        \n",
    "        embedded = self.embedding_dropout(self.embed(x))\n",
    "        \n",
    "        h_1, _ = self.lstm1(embedded)\n",
    "        h_2, _ = self.lstm2(h_1)\n",
    "        \n",
    "        avg_pool = torch.mean(h_2, 1)\n",
    "        max_pool, _ = torch.max(h_2, 1)\n",
    "        \n",
    "        h_conc = torch.cat((max_pool, avg_pool), 1)\n",
    "        \n",
    "        h_lin_1 = F.relu(self.fc1(h_conc))\n",
    "        h_li_2 = F.relu(self.fc2(h_conc))\n",
    "        h_conc_linear = torch.cat((h_lin_1, h_li_2), 1)\n",
    "        \n",
    "        hidden = h_conc + h_conc_linear\n",
    "        result = self.fc_out(hidden)\n",
    "        \n",
    "        aux_result = self.fc_aux_out(hidden)\n",
    "        out = torch.cat([result, aux_result], 1)\n",
    "        return out\n",
    "    \n",
    "    def init_hidden(self, batch_size):\n",
    "        hidden = torch.zeros(self.n_layers, batch_size, self.hidden_dim)\n",
    "        return hidden"
   ]
  },
  {
   "cell_type": "markdown",
   "metadata": {},
   "source": [
    "## Model Config"
   ]
  },
  {
   "cell_type": "code",
   "execution_count": 32,
   "metadata": {},
   "outputs": [],
   "source": [
    "vocab_size = len(wrd2idx) + 2\n",
    "embed_dim = 300\n",
    "hidden_dim=256\n",
    "output_size = len(genre2idx)\n",
    "input_size=623\n",
    "n_layers = 1\n",
    "batch_size = 20\n",
    "lr = 0.001\n",
    "device = 'cpu'"
   ]
  },
  {
   "cell_type": "markdown",
   "metadata": {},
   "source": [
    "# Training"
   ]
  },
  {
   "cell_type": "code",
   "execution_count": 33,
   "metadata": {},
   "outputs": [],
   "source": [
    "model = rnn(input_size, vocab_size, hidden_dim,\n",
    "            embed_dim, n_layers, output_size, batch_size)"
   ]
  },
  {
   "cell_type": "markdown",
   "metadata": {},
   "source": [
    "## Training Parameters"
   ]
  },
  {
   "cell_type": "code",
   "execution_count": 34,
   "metadata": {},
   "outputs": [],
   "source": [
    "param_lrs = [{'params': param, 'lr': lr} for param in model.parameters()]\n",
    "optimizer = torch.optim.Adam(param_lrs, lr=lr)\n",
    "criterion = nn.BCEWithLogitsLoss().to(device)\n",
    "NUM_EPOCHS=10"
   ]
  },
  {
   "cell_type": "code",
   "execution_count": 35,
   "metadata": {},
   "outputs": [
    {
     "data": {
      "text/plain": [
       "rnn(\n",
       "  (embed): Embedding(1917, 300)\n",
       "  (embedding_dropout): SpatialDropout(p=0.3, inplace=False)\n",
       "  (lstm1): LSTM(300, 256, batch_first=True)\n",
       "  (lstm2): LSTM(256, 256, batch_first=True)\n",
       "  (fc1): Linear(in_features=512, out_features=256, bias=True)\n",
       "  (fc2): Linear(in_features=512, out_features=256, bias=True)\n",
       "  (fc_out): Linear(in_features=512, out_features=1, bias=True)\n",
       "  (fc_aux_out): Linear(in_features=512, out_features=20, bias=True)\n",
       ")"
      ]
     },
     "execution_count": 35,
     "metadata": {},
     "output_type": "execute_result"
    }
   ],
   "source": [
    "model.to(device)"
   ]
  },
  {
   "cell_type": "code",
   "execution_count": null,
   "metadata": {},
   "outputs": [],
   "source": []
  },
  {
   "cell_type": "code",
   "execution_count": 39,
   "metadata": {},
   "outputs": [],
   "source": [
    "def train(train_dataloader, model, NUM_EPOCHS):\n",
    "    \n",
    "    for epoch in tqdm(range(0, NUM_EPOCHS), total=NUM_EPOCHS):\n",
    "        \n",
    "        model.train()\n",
    "        avg_loss = 0\n",
    "        for i in tqdm(train_dataloader):\n",
    "\n",
    "            x = i[0].to(device)\n",
    "            y = i[1].to(device)\n",
    "\n",
    "            out = model(x)\n",
    "            loss = criterion(out, y)\n",
    "            optimizer.zero_grad()\n",
    "            loss.backward()\n",
    "            optimizer.step()\n",
    "            avg_loss += loss.item() / len(train_dataloader)\n",
    "            \n",
    "            \n",
    "            break\n",
    "        \n",
    "\n",
    "        print(avg_loss)\n",
    "    \n",
    "    return model"
   ]
  },
  {
   "cell_type": "code",
   "execution_count": 38,
   "metadata": {},
   "outputs": [],
   "source": [
    "#trained_model = train(train_dataloader, model, 20)"
   ]
  },
  {
   "cell_type": "code",
   "execution_count": 46,
   "metadata": {},
   "outputs": [],
   "source": [
    "def sigmoid(x):\n",
    "    return 1 / (1 + np.exp(-x))"
   ]
  },
  {
   "cell_type": "code",
   "execution_count": 47,
   "metadata": {},
   "outputs": [],
   "source": [
    "def get_index(preds):\n",
    "    empty = []\n",
    "    \n",
    "    for i in preds:\n",
    "        if i > 0.5:\n",
    "            empty.append(1)\n",
    "            \n",
    "        else:\n",
    "            empty.append(0)\n",
    "            \n",
    "    return empty\n",
    "            \n",
    "    \n",
    "    "
   ]
  },
  {
   "cell_type": "code",
   "execution_count": 57,
   "metadata": {},
   "outputs": [],
   "source": [
    "def test(trained_model, test_dataloader, urlystop):\n",
    "    preds = []\n",
    "    true = []\n",
    "    model.eval()\n",
    "    model.to('cuda:1')\n",
    "\n",
    "    num = 0\n",
    "    for i in tqdm(test_dataloader, total=urlystop):\n",
    "\n",
    "        if num == urlystop:\n",
    "            break\n",
    "        x = i[0].to('cuda:1')\n",
    "        y = i[1].to('cuda:1')\n",
    "\n",
    "        out = model(x)\n",
    "        pred = sigmoid(out.cpu().detach().numpy())\n",
    "        preds.append(get_index(pred[0]))\n",
    "        true.append(y.cpu().numpy()[0])\n",
    "        num += 1\n",
    "    \n",
    "    return np.array(preds), np.array(true)"
   ]
  },
  {
   "cell_type": "code",
   "execution_count": 88,
   "metadata": {},
   "outputs": [
    {
     "data": {
      "application/vnd.jupyter.widget-view+json": {
       "model_id": "d5f08475211140afb5ca393d9828167e",
       "version_major": 2,
       "version_minor": 0
      },
      "text/plain": [
       "HBox(children=(FloatProgress(value=0.0, max=1592.0), HTML(value='')))"
      ]
     },
     "metadata": {},
     "output_type": "display_data"
    },
    {
     "name": "stdout",
     "output_type": "stream",
     "text": [
      "\n"
     ]
    }
   ],
   "source": [
    "pres, true = test(trained_model, test_dataloader, len(test_dataloader))"
   ]
  },
  {
   "cell_type": "code",
   "execution_count": 89,
   "metadata": {},
   "outputs": [],
   "source": [
    "from sklearn.metrics import accuracy_score, precision_score, recall_score, f1_score, confusion_matrix, hamming_loss"
   ]
  },
  {
   "cell_type": "code",
   "execution_count": 90,
   "metadata": {},
   "outputs": [],
   "source": [
    "def metricsReport(modelName, test_labels, predictions):\n",
    "    ModelsPerformance = {}\n",
    "    macro_f1 = f1_score(test_labels, predictions, average='macro', zero_division=True)\n",
    "\n",
    "    micro_f1 = f1_score(test_labels, predictions, average='micro', zero_division=True)\n",
    "    \n",
    "    hamLoss = hamming_loss(test_labels, predictions)\n",
    "    \n",
    "    ModelsPerformance[modelName] = micro_f1\n",
    "    \n",
    "    return ModelsPerformance"
   ]
  },
  {
   "cell_type": "code",
   "execution_count": 91,
   "metadata": {},
   "outputs": [],
   "source": [
    "b = metricsReport('Micro-F1 Score', true, pres)"
   ]
  },
  {
   "cell_type": "code",
   "execution_count": 92,
   "metadata": {},
   "outputs": [
    {
     "data": {
      "text/plain": [
       "{'Micro-F1 Score': 0.5105733082706767}"
      ]
     },
     "execution_count": 92,
     "metadata": {},
     "output_type": "execute_result"
    }
   ],
   "source": [
    "b"
   ]
  },
  {
   "cell_type": "code",
   "execution_count": 95,
   "metadata": {},
   "outputs": [],
   "source": [
    "exact_match = np.all(pres == true)"
   ]
  },
  {
   "cell_type": "code",
   "execution_count": 96,
   "metadata": {},
   "outputs": [
    {
     "data": {
      "text/plain": [
       "False"
      ]
     },
     "execution_count": 96,
     "metadata": {},
     "output_type": "execute_result"
    }
   ],
   "source": [
    "exact_match"
   ]
  },
  {
   "cell_type": "code",
   "execution_count": 97,
   "metadata": {},
   "outputs": [],
   "source": [
    "def accuracy(y_true, y_pred):\n",
    "    \n",
    "    temp = 0\n",
    "    \n",
    "    for i in range(y_true.shape[0]):\n",
    "        temp += sum(np.logical_and(y_true[i], y_pred[i])) / sum(np.logical_or(y_true[i], y_pred[i]))\n",
    "    \n",
    "    return temp / y_true.shape[0]\n",
    "    \n"
   ]
  },
  {
   "cell_type": "code",
   "execution_count": 98,
   "metadata": {},
   "outputs": [
    {
     "data": {
      "text/plain": [
       "0.38343677713966584"
      ]
     },
     "execution_count": 98,
     "metadata": {},
     "output_type": "execute_result"
    }
   ],
   "source": [
    "accuracy(true, pres)"
   ]
  },
  {
   "cell_type": "code",
   "execution_count": 99,
   "metadata": {},
   "outputs": [],
   "source": [
    "def Precision(y_true, y_pred):\n",
    "    temp = 0\n",
    "    for i in range(y_true.shape[0]):\n",
    "        if sum(y_true[i]) == 0:\n",
    "            continue\n",
    "        temp+= sum(np.logical_and(y_true[i], y_pred[i]))/ sum(y_true[i])\n",
    "    return temp/ y_true.shape[0]"
   ]
  },
  {
   "cell_type": "code",
   "execution_count": 100,
   "metadata": {},
   "outputs": [
    {
     "data": {
      "text/plain": [
       "0.5074845955970327"
      ]
     },
     "execution_count": 100,
     "metadata": {},
     "output_type": "execute_result"
    }
   ],
   "source": [
    "Precision(true, pres)"
   ]
  },
  {
   "cell_type": "code",
   "execution_count": 101,
   "metadata": {},
   "outputs": [],
   "source": [
    "def Recall(y_true, y_pred):\n",
    "    temp = 0\n",
    "    for i in range(y_true.shape[0]):\n",
    "        if sum(y_pred[i]) == 0:\n",
    "            continue\n",
    "        temp+= sum(np.logical_and(y_true[i], y_pred[i]))/ sum(y_pred[i])\n",
    "    return temp/ y_true.shape[0]"
   ]
  },
  {
   "cell_type": "code",
   "execution_count": 102,
   "metadata": {},
   "outputs": [
    {
     "data": {
      "text/plain": [
       "0.5647478463747304"
      ]
     },
     "execution_count": 102,
     "metadata": {},
     "output_type": "execute_result"
    }
   ],
   "source": [
    "Recall(true, pres)"
   ]
  },
  {
   "cell_type": "code",
   "execution_count": 103,
   "metadata": {},
   "outputs": [],
   "source": [
    "def Hamming_Loss(y_true, y_pred):\n",
    "    temp=0\n",
    "    for i in range(y_true.shape[0]):\n",
    "        temp += np.size(y_true[i] == y_pred[i]) - np.count_nonzero(y_true[i] == y_pred[i])\n",
    "    return temp/(y_true.shape[0] * y_true.shape[1])\n",
    "    "
   ]
  },
  {
   "cell_type": "code",
   "execution_count": 104,
   "metadata": {},
   "outputs": [
    {
     "data": {
      "text/plain": [
       "0.10903475711892797"
      ]
     },
     "execution_count": 104,
     "metadata": {},
     "output_type": "execute_result"
    }
   ],
   "source": [
    "Hamming_Loss(true, pres)"
   ]
  },
  {
   "cell_type": "code",
   "execution_count": 105,
   "metadata": {},
   "outputs": [],
   "source": [
    "from sklearn.metrics import multilabel_confusion_matrix"
   ]
  },
  {
   "cell_type": "code",
   "execution_count": 106,
   "metadata": {},
   "outputs": [],
   "source": [
    "a = multilabel_confusion_matrix(true,pres)"
   ]
  },
  {
   "cell_type": "code",
   "execution_count": null,
   "metadata": {},
   "outputs": [],
   "source": []
  },
  {
   "cell_type": "code",
   "execution_count": 108,
   "metadata": {},
   "outputs": [],
   "source": [
    "import matplotlib.pyplot as plt\n",
    "from sklearn.metrics import roc_auc_score"
   ]
  },
  {
   "cell_type": "code",
   "execution_count": 109,
   "metadata": {},
   "outputs": [],
   "source": [
    "scores = []\n",
    "for i in zip(true, pres):\n",
    "    \n",
    "    score = roc_auc_score(i[0], i[1])\n",
    "    scores.append(score)\n"
   ]
  },
  {
   "cell_type": "code",
   "execution_count": 110,
   "metadata": {},
   "outputs": [
    {
     "data": {
      "text/plain": [
       "0.7276377400910997"
      ]
     },
     "execution_count": 110,
     "metadata": {},
     "output_type": "execute_result"
    }
   ],
   "source": [
    "sum(scores) / len(scores)"
   ]
  },
  {
   "cell_type": "code",
   "execution_count": 84,
   "metadata": {},
   "outputs": [],
   "source": [
    "def plot_roc_curve(fpr, tpr):\n",
    "    plt.plot(fpr, tpr, color='orange', label='ROC')\n",
    "    plt.plot([0, 1], [0, 1], color='darkblue', linestyle='--')\n",
    "    plt.xlabel('False Positive Rate')\n",
    "    plt.ylabel('True Positive Rate')\n",
    "    plt.title('Receiver Operating Characteristic (ROC) Curve')\n",
    "    plt.legend()\n",
    "    plt.show()"
   ]
  },
  {
   "cell_type": "code",
   "execution_count": 86,
   "metadata": {},
   "outputs": [
    {
     "name": "stdout",
     "output_type": "stream",
     "text": [
      "AUC: 0.47619047619047616\n"
     ]
    }
   ],
   "source": [
    "print('AUC: {}'.format(score))"
   ]
  },
  {
   "cell_type": "markdown",
   "metadata": {},
   "source": [
    "## Process Images"
   ]
  },
  {
   "cell_type": "code",
   "execution_count": null,
   "metadata": {
    "code_folding": [
     6
    ]
   },
   "outputs": [],
   "source": [
    "import os\n",
    "# sample execution (requires torchvision)\n",
    "from PIL import Image\n",
    "from torchvision import transforms\n",
    "import torch\n",
    "\n",
    "transform = transforms.Compose([\n",
    "    transforms.Resize(512),\n",
    "    transforms.CenterCrop(448),\n",
    "    transforms.ToTensor(),\n",
    "    transforms.Normalize(mean=[0.485, 0.456, 0.406], std=[0.229, 0.224, 0.225]),\n",
    "])\n",
    "\n",
    "invTrans = transforms.Compose([\n",
    "                                transforms.Normalize(mean=[-0.485/0.229, -0.456/0.224, -0.406/0.225], \n",
    "                                                     std=[1/0.229, 1/0.224, 1/0.225]),\n",
    "                               ])"
   ]
  },
  {
   "cell_type": "code",
   "execution_count": null,
   "metadata": {},
   "outputs": [],
   "source": [
    "def process_image(filename, from_path):\n",
    "    \n",
    "    if from_path == False:\n",
    "        \n",
    "        input_image = Image.open(filename)\n",
    "        transformed = transform(input_image)\n",
    "        filename = filename.split('/')[-1][:-5]\n",
    "        filename = 'data/processed_posters/{}-processed.jpeg'.format(filename)\n",
    "\n",
    "        output_image(transformed, filename)\n",
    "        return transformed\n",
    "\n",
    "    else:\n",
    "        \n",
    "        transformed = transform(Image.open(filename))\n",
    "        return transformed\n",
    "    \n",
    "    "
   ]
  },
  {
   "cell_type": "code",
   "execution_count": null,
   "metadata": {},
   "outputs": [],
   "source": [
    "def output_image(image, filename):\n",
    "    \n",
    "    image = ToPILImage()(invTrans(image))\n",
    "    image.save(filename)\n",
    "    \n",
    "    "
   ]
  },
  {
   "cell_type": "code",
   "execution_count": null,
   "metadata": {},
   "outputs": [],
   "source": []
  },
  {
   "cell_type": "code",
   "execution_count": null,
   "metadata": {},
   "outputs": [],
   "source": [
    "processed = torch.stack(processed_images)"
   ]
  },
  {
   "cell_type": "code",
   "execution_count": null,
   "metadata": {},
   "outputs": [],
   "source": [
    "film_ids = [i[13:-5] for i in df['poster_path'].tolist()]"
   ]
  },
  {
   "cell_type": "code",
   "execution_count": null,
   "metadata": {},
   "outputs": [],
   "source": [
    "from torch.utils.data import Dataset, DataLoader"
   ]
  },
  {
   "cell_type": "code",
   "execution_count": null,
   "metadata": {},
   "outputs": [],
   "source": []
  },
  {
   "cell_type": "code",
   "execution_count": null,
   "metadata": {},
   "outputs": [],
   "source": [
    "dataset = film_dataset(film_ids, encoded, processed, encoded_genres)"
   ]
  },
  {
   "cell_type": "code",
   "execution_count": null,
   "metadata": {},
   "outputs": [],
   "source": [
    "dataset[10]"
   ]
  },
  {
   "cell_type": "markdown",
   "metadata": {},
   "source": [
    "## Decode "
   ]
  },
  {
   "cell_type": "code",
   "execution_count": null,
   "metadata": {},
   "outputs": [],
   "source": [
    "def decode_plot(idx2wrd, plot):\n",
    "    \n",
    "    plot = [int(i) for i in list(plot)]\n",
    "    decoded = [idx2wrd[i] for i in plot if i != 0]\n",
    "    \n",
    "    return ' '.join(decoded[1:-1])"
   ]
  },
  {
   "cell_type": "code",
   "execution_count": null,
   "metadata": {},
   "outputs": [],
   "source": [
    "def decode_genre(genre, idx2genre):\n",
    "    \n",
    "    genre = [int(i) for i in list(genre)]\n",
    "    decoded = [idx2genre[i] for i in genre]\n",
    "    return decoded"
   ]
  },
  {
   "cell_type": "code",
   "execution_count": null,
   "metadata": {},
   "outputs": [],
   "source": [
    "decode_genre(dataset[1]['genre'], idx2genre)"
   ]
  },
  {
   "cell_type": "code",
   "execution_count": null,
   "metadata": {},
   "outputs": [],
   "source": []
  },
  {
   "cell_type": "code",
   "execution_count": null,
   "metadata": {},
   "outputs": [],
   "source": [
    "def view_image(image):\n",
    "    invTrans = transforms.Compose([\n",
    "                                transforms.Normalize(mean=[-0.485/0.229, -0.456/0.224, -0.406/0.225], \n",
    "                                                     std=[1/0.229, 1/0.224, 1/0.225]),\n",
    "                               ])\n",
    "    pil_image = ToPILImage()(invTrans(image))\n",
    "    return pil_image\n"
   ]
  },
  {
   "cell_type": "code",
   "execution_count": null,
   "metadata": {},
   "outputs": [],
   "source": [
    "image = view_image(dataset[23]['poster'])"
   ]
  },
  {
   "cell_type": "code",
   "execution_count": null,
   "metadata": {},
   "outputs": [],
   "source": [
    "\n",
    "for col, row in df.iterrows():\n",
    "    print(row)\n",
    "    genre = encode_genre(row['genre'], genre2idx)\n",
    "    plot = encode_plot(row['plot'], wrd2idx)\n",
    "    print(row['poster_path'])\n",
    "    poster = process_image(row['poster_path'])\n",
    "    break"
   ]
  },
  {
   "cell_type": "code",
   "execution_count": null,
   "metadata": {},
   "outputs": [],
   "source": [
    "class film_dataset(Dataset):\n",
    "    \n",
    "    def __init__(self, df, wrd2idx, genre2idx):\n",
    "        \n",
    "        self.film_id = []\n",
    "        self.genre = []\n",
    "        self.plot = []\n",
    "        self.poster = []\n",
    "        self.failed = []\n",
    "        \n",
    "        self.wrd2idx = wrd2idx\n",
    "        self.genre2idx = genre2idx\n",
    "        \n",
    "        for col, row in tqdm(df.iterrows(), total=len(df)):\n",
    "            self.film_id.append(row['id'])\n",
    "            self.genre.append(encode_genre(row['genre'], genre2idx))\n",
    "            self.plot.append(encode_plot(row['plot'], wrd2idx))\n",
    "            self.poster.append(process_image(row['poster_path'], True))\n",
    "            self.failed.append(row)\n",
    "            \n",
    "    \n",
    "    def __getitem__(self, idx):\n",
    "        \n",
    "        return {\n",
    "            'film_id' : self.film_id[idx],\n",
    "            'plot'    : self.plot[idx],\n",
    "            'poster'  : self.poster[idx],\n",
    "            'genre'   : self.genre[idx]\n",
    "        }\n",
    "        \n",
    "    def __len__(sef):\n",
    "        return len(film_id)\n",
    "    "
   ]
  },
  {
   "cell_type": "code",
   "execution_count": null,
   "metadata": {},
   "outputs": [],
   "source": [
    "dataset = film_dataset(df[:50], wrd2idx, genre2idx)"
   ]
  },
  {
   "cell_type": "code",
   "execution_count": null,
   "metadata": {},
   "outputs": [],
   "source": [
    "class film_dataset(Dataset):\n",
    "    \n",
    "    def __init__(self, film_id, plot, poster, genre):\n",
    "        \n",
    "        self.film_id = film_id\n",
    "        self.plot = plot\n",
    "        self.poster = poster\n",
    "        self.genre = genre\n",
    "        \n",
    "    def __getitem__(self, idx):\n",
    "        \n",
    "        return {\n",
    "            'film_id' : self.film_id[idx],\n",
    "            'plot'    : self.plot[idx],\n",
    "            'poster'  : self.poster[idx],\n",
    "            'genre'   : self.genre[idx]\n",
    "        }\n",
    "        \n",
    "    def __len__(sef):\n",
    "        return len(film_id)"
   ]
  },
  {
   "cell_type": "code",
   "execution_count": null,
   "metadata": {},
   "outputs": [],
   "source": [
    "df"
   ]
  },
  {
   "cell_type": "code",
   "execution_count": null,
   "metadata": {},
   "outputs": [],
   "source": []
  }
 ],
 "metadata": {
  "kernelspec": {
   "display_name": "Python 3",
   "language": "python",
   "name": "python3"
  },
  "language_info": {
   "codemirror_mode": {
    "name": "ipython",
    "version": 3
   },
   "file_extension": ".py",
   "mimetype": "text/x-python",
   "name": "python",
   "nbconvert_exporter": "python",
   "pygments_lexer": "ipython3",
   "version": "3.7.4"
  },
  "toc": {
   "base_numbering": 1,
   "nav_menu": {},
   "number_sections": true,
   "sideBar": true,
   "skip_h1_title": false,
   "title_cell": "Table of Contents",
   "title_sidebar": "Contents",
   "toc_cell": false,
   "toc_position": {},
   "toc_section_display": true,
   "toc_window_display": true
  }
 },
 "nbformat": 4,
 "nbformat_minor": 4
}
